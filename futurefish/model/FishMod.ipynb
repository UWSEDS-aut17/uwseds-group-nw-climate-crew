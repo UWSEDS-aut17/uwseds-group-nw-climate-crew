{
 "cells": [
  {
   "cell_type": "markdown",
   "metadata": {},
   "source": [
    "### Temperature Model\n",
    "\n",
    "####  Model Equation \n",
    "$R =R_{max}*\\left(\\frac{T_{max}-Temp}{T_{max}-T_{opt}}\\right)*\\left(\\frac{Temp-T_{min}}{T_{opt}-T_{min}}\\right)^\\frac{T_{opt}-T_{min}}{T_{max}-T_{opt}}$\n",
    "\n",
    "#### Parameters\n",
    "$R$: Growth Rate  \n",
    "$R_{max}$: Maximal Growth Rate (4.0)  \n",
    "$T_{max}$: Maximal Growth Temperature (30)  \n",
    "$T_{min}$: Minimal Growth Temperature (-5)       \n",
    "$T_{opt}$: Optimal Growth Temperature (17.6)  \n",
    "\n",
    "#### Required Input\n",
    "Monthly maximal temperature"
   ]
  },
  {
   "cell_type": "markdown",
   "metadata": {},
   "source": [
    "### Stream Flow Model\n",
    "\n",
    "#### Chinook\n",
    "$SpawnArea = \\frac{a}{1+\\left(\\frac{Flow-F_{o}}{b}\\right)^2}$  \n",
    "$F_{o}: 424$  \n",
    "$a: 12818$  \n",
    "$b: 424$  \n",
    "\n",
    "#### Sockeye\n",
    "$SpawnArea = \\frac{a}{1+\\left(\\frac{Flow-F_{o}}{b}\\right)^2}$  \n",
    "$F_{o}: 390$  \n",
    "$a: 946$     \n",
    "$b: 390$  \n",
    "\n",
    "#### Coho\n",
    "$SpawnArea = \\frac{a}{1+\\left(\\frac{Flow-F_{o}}{b}\\right)^2}$  \n",
    "Fo = 362   \n",
    "a = 12124   \n",
    "b = 362  \n",
    "\n",
    "#### Pink\n",
    "$SpawnArea =A_{max}*\\left(\\frac{F_{max}-Flow}{F_{max}-F_{opt}}\\right)*\\left(\\frac{Flow-F_{min}}{F_{opt}-F_{min}}\\right)^\\frac{F_{opt}-F_{min}}{F_{max}-F_{opt}}$  \n",
    "$A_{max}: 1052$    \n",
    "$F_{max}: 1200$    \n",
    "$F_{min}: 0$     \n",
    "$F_{opt}: 420$  "
   ]
  },
  {
   "cell_type": "markdown",
   "metadata": {},
   "source": [
    "### Model Run and Output Interpretation"
   ]
  },
  {
   "cell_type": "markdown",
   "metadata": {},
   "source": [
    "#### Reading in future projections of stream temperature and stream flow"
   ]
  },
  {
   "cell_type": "code",
   "execution_count": 1,
   "metadata": {
    "collapsed": true
   },
   "outputs": [],
   "source": [
    "import fishmod_utils\n",
    "import pandas as pd"
   ]
  },
  {
   "cell_type": "code",
   "execution_count": 2,
   "metadata": {
    "collapsed": true
   },
   "outputs": [],
   "source": [
    "data_wea = pd.read_csv(\"sites_streamflow_stream_temperature.csv\")\n",
    "data_latlon = pd.read_csv(\"full_site_test_dataset.csv\")\n",
    "data_latlon = data_latlon.iloc[:,0:4]"
   ]
  },
  {
   "cell_type": "code",
   "execution_count": 3,
   "metadata": {},
   "outputs": [
    {
     "data": {
      "text/html": [
       "<div>\n",
       "<table border=\"1\" class=\"dataframe\">\n",
       "  <thead>\n",
       "    <tr style=\"text-align: right;\">\n",
       "      <th></th>\n",
       "      <th>Site ID</th>\n",
       "      <th>Stream Temperature 2040s</th>\n",
       "      <th>Stream Temperature 2080s</th>\n",
       "      <th>Stream Temperature Historical</th>\n",
       "      <th>Streamflow Historical</th>\n",
       "      <th>Streamflow 2040s</th>\n",
       "      <th>Streamflow 2080s</th>\n",
       "    </tr>\n",
       "  </thead>\n",
       "  <tbody>\n",
       "    <tr>\n",
       "      <th>0</th>\n",
       "      <td>ALB</td>\n",
       "      <td>24.304</td>\n",
       "      <td>25.621</td>\n",
       "      <td>18.747538</td>\n",
       "      <td>2022.029714</td>\n",
       "      <td>2042.155229</td>\n",
       "      <td>1955.022943</td>\n",
       "    </tr>\n",
       "    <tr>\n",
       "      <th>1</th>\n",
       "      <td>LIB</td>\n",
       "      <td>18.852</td>\n",
       "      <td>19.938</td>\n",
       "      <td>11.410846</td>\n",
       "      <td>4092.903714</td>\n",
       "      <td>2727.771443</td>\n",
       "      <td>2488.091671</td>\n",
       "    </tr>\n",
       "    <tr>\n",
       "      <th>2</th>\n",
       "      <td>BFE</td>\n",
       "      <td>12.079</td>\n",
       "      <td>12.824</td>\n",
       "      <td>6.987846</td>\n",
       "      <td>5730.669857</td>\n",
       "      <td>4217.675486</td>\n",
       "      <td>3687.116386</td>\n",
       "    </tr>\n",
       "    <tr>\n",
       "      <th>3</th>\n",
       "      <td>BON</td>\n",
       "      <td>19.896</td>\n",
       "      <td>21.094</td>\n",
       "      <td>-2989.555000</td>\n",
       "      <td>81463.434714</td>\n",
       "      <td>67905.510514</td>\n",
       "      <td>70655.700086</td>\n",
       "    </tr>\n",
       "    <tr>\n",
       "      <th>4</th>\n",
       "      <td>HOD</td>\n",
       "      <td>22.852</td>\n",
       "      <td>23.982</td>\n",
       "      <td>14.710615</td>\n",
       "      <td>297.450286</td>\n",
       "      <td>251.917157</td>\n",
       "      <td>250.765671</td>\n",
       "    </tr>\n",
       "  </tbody>\n",
       "</table>\n",
       "</div>"
      ],
      "text/plain": [
       "  Site ID  Stream Temperature 2040s  Stream Temperature 2080s  \\\n",
       "0     ALB                    24.304                    25.621   \n",
       "1     LIB                    18.852                    19.938   \n",
       "2     BFE                    12.079                    12.824   \n",
       "3     BON                    19.896                    21.094   \n",
       "4     HOD                    22.852                    23.982   \n",
       "\n",
       "   Stream Temperature Historical  Streamflow Historical  Streamflow 2040s  \\\n",
       "0                      18.747538            2022.029714       2042.155229   \n",
       "1                      11.410846            4092.903714       2727.771443   \n",
       "2                       6.987846            5730.669857       4217.675486   \n",
       "3                   -2989.555000           81463.434714      67905.510514   \n",
       "4                      14.710615             297.450286        251.917157   \n",
       "\n",
       "   Streamflow 2080s  \n",
       "0       1955.022943  \n",
       "1       2488.091671  \n",
       "2       3687.116386  \n",
       "3      70655.700086  \n",
       "4        250.765671  "
      ]
     },
     "execution_count": 3,
     "metadata": {},
     "output_type": "execute_result"
    }
   ],
   "source": [
    "data_wea.head()"
   ]
  },
  {
   "cell_type": "code",
   "execution_count": 4,
   "metadata": {
    "collapsed": true
   },
   "outputs": [],
   "source": [
    "data_wea00 = data_wea.ix[:,[\"Site ID\", \"Stream Temperature Historical\", \"Streamflow Historical\"]]\n",
    "data_wea40 = data_wea.ix[:,[\"Site ID\", \"Stream Temperature 2040s\", \"Streamflow 2040s\"]]\n",
    "data_wea80 = data_wea.ix[:,[\"Site ID\", \"Stream Temperature 2080s\", \"Streamflow 2080s\"]]"
   ]
  },
  {
   "cell_type": "code",
   "execution_count": 5,
   "metadata": {},
   "outputs": [
    {
     "data": {
      "text/html": [
       "<div>\n",
       "<table border=\"1\" class=\"dataframe\">\n",
       "  <thead>\n",
       "    <tr style=\"text-align: right;\">\n",
       "      <th></th>\n",
       "      <th>Site ID</th>\n",
       "      <th>Stream Temperature Historical</th>\n",
       "      <th>Streamflow Historical</th>\n",
       "      <th>Decade</th>\n",
       "    </tr>\n",
       "  </thead>\n",
       "  <tbody>\n",
       "    <tr>\n",
       "      <th>0</th>\n",
       "      <td>ALB</td>\n",
       "      <td>18.747538</td>\n",
       "      <td>2022.029714</td>\n",
       "      <td>1993-2005</td>\n",
       "    </tr>\n",
       "    <tr>\n",
       "      <th>1</th>\n",
       "      <td>LIB</td>\n",
       "      <td>11.410846</td>\n",
       "      <td>4092.903714</td>\n",
       "      <td>1993-2005</td>\n",
       "    </tr>\n",
       "    <tr>\n",
       "      <th>2</th>\n",
       "      <td>BFE</td>\n",
       "      <td>6.987846</td>\n",
       "      <td>5730.669857</td>\n",
       "      <td>1993-2005</td>\n",
       "    </tr>\n",
       "    <tr>\n",
       "      <th>3</th>\n",
       "      <td>BON</td>\n",
       "      <td>-2989.555000</td>\n",
       "      <td>81463.434714</td>\n",
       "      <td>1993-2005</td>\n",
       "    </tr>\n",
       "    <tr>\n",
       "      <th>4</th>\n",
       "      <td>HOD</td>\n",
       "      <td>14.710615</td>\n",
       "      <td>297.450286</td>\n",
       "      <td>1993-2005</td>\n",
       "    </tr>\n",
       "  </tbody>\n",
       "</table>\n",
       "</div>"
      ],
      "text/plain": [
       "  Site ID  Stream Temperature Historical  Streamflow Historical     Decade\n",
       "0     ALB                      18.747538            2022.029714  1993-2005\n",
       "1     LIB                      11.410846            4092.903714  1993-2005\n",
       "2     BFE                       6.987846            5730.669857  1993-2005\n",
       "3     BON                   -2989.555000           81463.434714  1993-2005\n",
       "4     HOD                      14.710615             297.450286  1993-2005"
      ]
     },
     "execution_count": 5,
     "metadata": {},
     "output_type": "execute_result"
    }
   ],
   "source": [
    "data_wea00 = data_wea00.assign(Decade='1993-2005')\n",
    "data_wea00.head()"
   ]
  },
  {
   "cell_type": "code",
   "execution_count": 6,
   "metadata": {},
   "outputs": [
    {
     "data": {
      "text/html": [
       "<div>\n",
       "<table border=\"1\" class=\"dataframe\">\n",
       "  <thead>\n",
       "    <tr style=\"text-align: right;\">\n",
       "      <th></th>\n",
       "      <th>Site ID</th>\n",
       "      <th>Stream Temperature 2040s</th>\n",
       "      <th>Streamflow 2040s</th>\n",
       "      <th>Decade</th>\n",
       "    </tr>\n",
       "  </thead>\n",
       "  <tbody>\n",
       "    <tr>\n",
       "      <th>0</th>\n",
       "      <td>ALB</td>\n",
       "      <td>24.304</td>\n",
       "      <td>2042.155229</td>\n",
       "      <td>2030-2059</td>\n",
       "    </tr>\n",
       "    <tr>\n",
       "      <th>1</th>\n",
       "      <td>LIB</td>\n",
       "      <td>18.852</td>\n",
       "      <td>2727.771443</td>\n",
       "      <td>2030-2059</td>\n",
       "    </tr>\n",
       "    <tr>\n",
       "      <th>2</th>\n",
       "      <td>BFE</td>\n",
       "      <td>12.079</td>\n",
       "      <td>4217.675486</td>\n",
       "      <td>2030-2059</td>\n",
       "    </tr>\n",
       "    <tr>\n",
       "      <th>3</th>\n",
       "      <td>BON</td>\n",
       "      <td>19.896</td>\n",
       "      <td>67905.510514</td>\n",
       "      <td>2030-2059</td>\n",
       "    </tr>\n",
       "    <tr>\n",
       "      <th>4</th>\n",
       "      <td>HOD</td>\n",
       "      <td>22.852</td>\n",
       "      <td>251.917157</td>\n",
       "      <td>2030-2059</td>\n",
       "    </tr>\n",
       "  </tbody>\n",
       "</table>\n",
       "</div>"
      ],
      "text/plain": [
       "  Site ID  Stream Temperature 2040s  Streamflow 2040s     Decade\n",
       "0     ALB                    24.304       2042.155229  2030-2059\n",
       "1     LIB                    18.852       2727.771443  2030-2059\n",
       "2     BFE                    12.079       4217.675486  2030-2059\n",
       "3     BON                    19.896      67905.510514  2030-2059\n",
       "4     HOD                    22.852        251.917157  2030-2059"
      ]
     },
     "execution_count": 6,
     "metadata": {},
     "output_type": "execute_result"
    }
   ],
   "source": [
    "data_wea40 = data_wea40.assign(Decade='2030-2059')\n",
    "data_wea40.head()"
   ]
  },
  {
   "cell_type": "code",
   "execution_count": 7,
   "metadata": {},
   "outputs": [
    {
     "data": {
      "text/html": [
       "<div>\n",
       "<table border=\"1\" class=\"dataframe\">\n",
       "  <thead>\n",
       "    <tr style=\"text-align: right;\">\n",
       "      <th></th>\n",
       "      <th>Site ID</th>\n",
       "      <th>Stream Temperature 2080s</th>\n",
       "      <th>Streamflow 2080s</th>\n",
       "      <th>Decade</th>\n",
       "    </tr>\n",
       "  </thead>\n",
       "  <tbody>\n",
       "    <tr>\n",
       "      <th>0</th>\n",
       "      <td>ALB</td>\n",
       "      <td>25.621</td>\n",
       "      <td>1955.022943</td>\n",
       "      <td>2070-2099</td>\n",
       "    </tr>\n",
       "    <tr>\n",
       "      <th>1</th>\n",
       "      <td>LIB</td>\n",
       "      <td>19.938</td>\n",
       "      <td>2488.091671</td>\n",
       "      <td>2070-2099</td>\n",
       "    </tr>\n",
       "    <tr>\n",
       "      <th>2</th>\n",
       "      <td>BFE</td>\n",
       "      <td>12.824</td>\n",
       "      <td>3687.116386</td>\n",
       "      <td>2070-2099</td>\n",
       "    </tr>\n",
       "    <tr>\n",
       "      <th>3</th>\n",
       "      <td>BON</td>\n",
       "      <td>21.094</td>\n",
       "      <td>70655.700086</td>\n",
       "      <td>2070-2099</td>\n",
       "    </tr>\n",
       "    <tr>\n",
       "      <th>4</th>\n",
       "      <td>HOD</td>\n",
       "      <td>23.982</td>\n",
       "      <td>250.765671</td>\n",
       "      <td>2070-2099</td>\n",
       "    </tr>\n",
       "  </tbody>\n",
       "</table>\n",
       "</div>"
      ],
      "text/plain": [
       "  Site ID  Stream Temperature 2080s  Streamflow 2080s     Decade\n",
       "0     ALB                    25.621       1955.022943  2070-2099\n",
       "1     LIB                    19.938       2488.091671  2070-2099\n",
       "2     BFE                    12.824       3687.116386  2070-2099\n",
       "3     BON                    21.094      70655.700086  2070-2099\n",
       "4     HOD                    23.982        250.765671  2070-2099"
      ]
     },
     "execution_count": 7,
     "metadata": {},
     "output_type": "execute_result"
    }
   ],
   "source": [
    "data_wea80 = data_wea80.assign(Decade='2070-2099')\n",
    "data_wea80.head()"
   ]
  },
  {
   "cell_type": "code",
   "execution_count": 8,
   "metadata": {
    "collapsed": true
   },
   "outputs": [],
   "source": [
    "data_wea00.columns = [\"Site ID\", \"Temperature\", \"Streamflow\", \"Decade\"]\n",
    "data_wea40.columns = [\"Site ID\", \"Temperature\", \"Streamflow\", \"Decade\"]\n",
    "data_wea80.columns = [\"Site ID\", \"Temperature\", \"Streamflow\", \"Decade\"]"
   ]
  },
  {
   "cell_type": "code",
   "execution_count": 9,
   "metadata": {},
   "outputs": [
    {
     "data": {
      "text/plain": [
       "(347, 4)"
      ]
     },
     "execution_count": 9,
     "metadata": {},
     "output_type": "execute_result"
    }
   ],
   "source": [
    "data_wea00.shape"
   ]
  },
  {
   "cell_type": "code",
   "execution_count": 10,
   "metadata": {},
   "outputs": [
    {
     "data": {
      "text/html": [
       "<div>\n",
       "<table border=\"1\" class=\"dataframe\">\n",
       "  <thead>\n",
       "    <tr style=\"text-align: right;\">\n",
       "      <th></th>\n",
       "      <th>Site ID</th>\n",
       "      <th>Basin</th>\n",
       "      <th>Latitude</th>\n",
       "      <th>Longitude</th>\n",
       "      <th>Temperature</th>\n",
       "      <th>Streamflow</th>\n",
       "      <th>Decade</th>\n",
       "    </tr>\n",
       "  </thead>\n",
       "  <tbody>\n",
       "    <tr>\n",
       "      <th>0</th>\n",
       "      <td>ALB</td>\n",
       "      <td>Willamette</td>\n",
       "      <td>44.633300</td>\n",
       "      <td>-123.100000</td>\n",
       "      <td>18.747538</td>\n",
       "      <td>2022.029714</td>\n",
       "      <td>1993-2005</td>\n",
       "    </tr>\n",
       "    <tr>\n",
       "      <th>1</th>\n",
       "      <td>LIB</td>\n",
       "      <td>Kootenay</td>\n",
       "      <td>48.411700</td>\n",
       "      <td>-115.309400</td>\n",
       "      <td>11.410846</td>\n",
       "      <td>4092.903714</td>\n",
       "      <td>1993-2005</td>\n",
       "    </tr>\n",
       "    <tr>\n",
       "      <th>2</th>\n",
       "      <td>BFE</td>\n",
       "      <td>Libby</td>\n",
       "      <td>48.698056</td>\n",
       "      <td>-116.312500</td>\n",
       "      <td>6.987846</td>\n",
       "      <td>5730.669857</td>\n",
       "      <td>1993-2005</td>\n",
       "    </tr>\n",
       "    <tr>\n",
       "      <th>3</th>\n",
       "      <td>BON</td>\n",
       "      <td>Lower Columbia</td>\n",
       "      <td>45.633333</td>\n",
       "      <td>-121.954444</td>\n",
       "      <td>-2989.555000</td>\n",
       "      <td>81463.434714</td>\n",
       "      <td>1993-2005</td>\n",
       "    </tr>\n",
       "    <tr>\n",
       "      <th>4</th>\n",
       "      <td>HOD</td>\n",
       "      <td>Lower Columbia</td>\n",
       "      <td>45.655556</td>\n",
       "      <td>-121.547222</td>\n",
       "      <td>14.710615</td>\n",
       "      <td>297.450286</td>\n",
       "      <td>1993-2005</td>\n",
       "    </tr>\n",
       "  </tbody>\n",
       "</table>\n",
       "</div>"
      ],
      "text/plain": [
       "  Site ID           Basin   Latitude   Longitude  Temperature    Streamflow  \\\n",
       "0     ALB      Willamette  44.633300 -123.100000    18.747538   2022.029714   \n",
       "1     LIB        Kootenay  48.411700 -115.309400    11.410846   4092.903714   \n",
       "2     BFE           Libby  48.698056 -116.312500     6.987846   5730.669857   \n",
       "3     BON  Lower Columbia  45.633333 -121.954444 -2989.555000  81463.434714   \n",
       "4     HOD  Lower Columbia  45.655556 -121.547222    14.710615    297.450286   \n",
       "\n",
       "      Decade  \n",
       "0  1993-2005  \n",
       "1  1993-2005  \n",
       "2  1993-2005  \n",
       "3  1993-2005  \n",
       "4  1993-2005  "
      ]
     },
     "execution_count": 10,
     "metadata": {},
     "output_type": "execute_result"
    }
   ],
   "source": [
    "data_wea00 = pd.merge(data_latlon, data_wea00)\n",
    "data_wea00.head()"
   ]
  },
  {
   "cell_type": "code",
   "execution_count": 11,
   "metadata": {},
   "outputs": [
    {
     "data": {
      "text/plain": [
       "(347, 4)"
      ]
     },
     "execution_count": 11,
     "metadata": {},
     "output_type": "execute_result"
    }
   ],
   "source": [
    "data_wea40.shape"
   ]
  },
  {
   "cell_type": "code",
   "execution_count": 12,
   "metadata": {},
   "outputs": [
    {
     "data": {
      "text/html": [
       "<div>\n",
       "<table border=\"1\" class=\"dataframe\">\n",
       "  <thead>\n",
       "    <tr style=\"text-align: right;\">\n",
       "      <th></th>\n",
       "      <th>Site ID</th>\n",
       "      <th>Basin</th>\n",
       "      <th>Latitude</th>\n",
       "      <th>Longitude</th>\n",
       "      <th>Temperature</th>\n",
       "      <th>Streamflow</th>\n",
       "      <th>Decade</th>\n",
       "    </tr>\n",
       "  </thead>\n",
       "  <tbody>\n",
       "    <tr>\n",
       "      <th>0</th>\n",
       "      <td>ALB</td>\n",
       "      <td>Willamette</td>\n",
       "      <td>44.633300</td>\n",
       "      <td>-123.100000</td>\n",
       "      <td>24.304</td>\n",
       "      <td>2042.155229</td>\n",
       "      <td>2030-2059</td>\n",
       "    </tr>\n",
       "    <tr>\n",
       "      <th>1</th>\n",
       "      <td>LIB</td>\n",
       "      <td>Kootenay</td>\n",
       "      <td>48.411700</td>\n",
       "      <td>-115.309400</td>\n",
       "      <td>18.852</td>\n",
       "      <td>2727.771443</td>\n",
       "      <td>2030-2059</td>\n",
       "    </tr>\n",
       "    <tr>\n",
       "      <th>2</th>\n",
       "      <td>BFE</td>\n",
       "      <td>Libby</td>\n",
       "      <td>48.698056</td>\n",
       "      <td>-116.312500</td>\n",
       "      <td>12.079</td>\n",
       "      <td>4217.675486</td>\n",
       "      <td>2030-2059</td>\n",
       "    </tr>\n",
       "    <tr>\n",
       "      <th>3</th>\n",
       "      <td>BON</td>\n",
       "      <td>Lower Columbia</td>\n",
       "      <td>45.633333</td>\n",
       "      <td>-121.954444</td>\n",
       "      <td>19.896</td>\n",
       "      <td>67905.510514</td>\n",
       "      <td>2030-2059</td>\n",
       "    </tr>\n",
       "    <tr>\n",
       "      <th>4</th>\n",
       "      <td>HOD</td>\n",
       "      <td>Lower Columbia</td>\n",
       "      <td>45.655556</td>\n",
       "      <td>-121.547222</td>\n",
       "      <td>22.852</td>\n",
       "      <td>251.917157</td>\n",
       "      <td>2030-2059</td>\n",
       "    </tr>\n",
       "  </tbody>\n",
       "</table>\n",
       "</div>"
      ],
      "text/plain": [
       "  Site ID           Basin   Latitude   Longitude  Temperature    Streamflow  \\\n",
       "0     ALB      Willamette  44.633300 -123.100000       24.304   2042.155229   \n",
       "1     LIB        Kootenay  48.411700 -115.309400       18.852   2727.771443   \n",
       "2     BFE           Libby  48.698056 -116.312500       12.079   4217.675486   \n",
       "3     BON  Lower Columbia  45.633333 -121.954444       19.896  67905.510514   \n",
       "4     HOD  Lower Columbia  45.655556 -121.547222       22.852    251.917157   \n",
       "\n",
       "      Decade  \n",
       "0  2030-2059  \n",
       "1  2030-2059  \n",
       "2  2030-2059  \n",
       "3  2030-2059  \n",
       "4  2030-2059  "
      ]
     },
     "execution_count": 12,
     "metadata": {},
     "output_type": "execute_result"
    }
   ],
   "source": [
    "data_wea40 = pd.merge(data_latlon, data_wea40)\n",
    "data_wea40.head()"
   ]
  },
  {
   "cell_type": "code",
   "execution_count": 13,
   "metadata": {},
   "outputs": [
    {
     "data": {
      "text/html": [
       "<div>\n",
       "<table border=\"1\" class=\"dataframe\">\n",
       "  <thead>\n",
       "    <tr style=\"text-align: right;\">\n",
       "      <th></th>\n",
       "      <th>Site ID</th>\n",
       "      <th>Basin</th>\n",
       "      <th>Latitude</th>\n",
       "      <th>Longitude</th>\n",
       "      <th>Temperature</th>\n",
       "      <th>Streamflow</th>\n",
       "      <th>Decade</th>\n",
       "    </tr>\n",
       "  </thead>\n",
       "  <tbody>\n",
       "    <tr>\n",
       "      <th>0</th>\n",
       "      <td>ALB</td>\n",
       "      <td>Willamette</td>\n",
       "      <td>44.633300</td>\n",
       "      <td>-123.100000</td>\n",
       "      <td>25.621</td>\n",
       "      <td>1955.022943</td>\n",
       "      <td>2070-2099</td>\n",
       "    </tr>\n",
       "    <tr>\n",
       "      <th>1</th>\n",
       "      <td>LIB</td>\n",
       "      <td>Kootenay</td>\n",
       "      <td>48.411700</td>\n",
       "      <td>-115.309400</td>\n",
       "      <td>19.938</td>\n",
       "      <td>2488.091671</td>\n",
       "      <td>2070-2099</td>\n",
       "    </tr>\n",
       "    <tr>\n",
       "      <th>2</th>\n",
       "      <td>BFE</td>\n",
       "      <td>Libby</td>\n",
       "      <td>48.698056</td>\n",
       "      <td>-116.312500</td>\n",
       "      <td>12.824</td>\n",
       "      <td>3687.116386</td>\n",
       "      <td>2070-2099</td>\n",
       "    </tr>\n",
       "    <tr>\n",
       "      <th>3</th>\n",
       "      <td>BON</td>\n",
       "      <td>Lower Columbia</td>\n",
       "      <td>45.633333</td>\n",
       "      <td>-121.954444</td>\n",
       "      <td>21.094</td>\n",
       "      <td>70655.700086</td>\n",
       "      <td>2070-2099</td>\n",
       "    </tr>\n",
       "    <tr>\n",
       "      <th>4</th>\n",
       "      <td>HOD</td>\n",
       "      <td>Lower Columbia</td>\n",
       "      <td>45.655556</td>\n",
       "      <td>-121.547222</td>\n",
       "      <td>23.982</td>\n",
       "      <td>250.765671</td>\n",
       "      <td>2070-2099</td>\n",
       "    </tr>\n",
       "  </tbody>\n",
       "</table>\n",
       "</div>"
      ],
      "text/plain": [
       "  Site ID           Basin   Latitude   Longitude  Temperature    Streamflow  \\\n",
       "0     ALB      Willamette  44.633300 -123.100000       25.621   1955.022943   \n",
       "1     LIB        Kootenay  48.411700 -115.309400       19.938   2488.091671   \n",
       "2     BFE           Libby  48.698056 -116.312500       12.824   3687.116386   \n",
       "3     BON  Lower Columbia  45.633333 -121.954444       21.094  70655.700086   \n",
       "4     HOD  Lower Columbia  45.655556 -121.547222       23.982    250.765671   \n",
       "\n",
       "      Decade  \n",
       "0  2070-2099  \n",
       "1  2070-2099  \n",
       "2  2070-2099  \n",
       "3  2070-2099  \n",
       "4  2070-2099  "
      ]
     },
     "execution_count": 13,
     "metadata": {},
     "output_type": "execute_result"
    }
   ],
   "source": [
    "data_wea80 = pd.merge(data_latlon, data_wea80)\n",
    "data_wea80.head()"
   ]
  },
  {
   "cell_type": "markdown",
   "metadata": {},
   "source": [
    "#### Feeding futrue stream temperature into temperature model and translating outputs into fish happiness scale 1-5"
   ]
  },
  {
   "cell_type": "code",
   "execution_count": 14,
   "metadata": {},
   "outputs": [
    {
     "name": "stdout",
     "output_type": "stream",
     "text": [
      "model output = temp_vulnerability\n"
     ]
    }
   ],
   "source": [
    "# Streamt temperature historical\n",
    "temp = data_wea00[\"Temperature\"]\n",
    "temp_vulnerability00 = fishmod_utils.temp_mod(temp, r_max=4, t_max=30, t_min=-5, t_opt=17.6)"
   ]
  },
  {
   "cell_type": "code",
   "execution_count": 15,
   "metadata": {},
   "outputs": [
    {
     "name": "stdout",
     "output_type": "stream",
     "text": [
      "model output = temp_vulnerability\n"
     ]
    }
   ],
   "source": [
    "# Stream temperature 2040s\n",
    "temp = data_wea40[\"Temperature\"]\n",
    "temp_vulnerability40 = fishmod_utils.temp_mod(temp, r_max=4, t_max=30, t_min=-5, t_opt=17.6)"
   ]
  },
  {
   "cell_type": "code",
   "execution_count": 16,
   "metadata": {},
   "outputs": [
    {
     "name": "stdout",
     "output_type": "stream",
     "text": [
      "model output = temp_vulnerability\n"
     ]
    }
   ],
   "source": [
    "# Stream temperature 2080s\n",
    "temp = data_wea80[\"Temperature\"]\n",
    "temp_vulnerability80 = fishmod_utils.temp_mod(temp, r_max=4, t_max=30, t_min=-5, t_opt=17.6)"
   ]
  },
  {
   "cell_type": "markdown",
   "metadata": {},
   "source": [
    "#### Feeding futrue streamflow into streamflow model and translating outputs into fish happiness scale 1-5"
   ]
  },
  {
   "cell_type": "code",
   "execution_count": 17,
   "metadata": {},
   "outputs": [
    {
     "name": "stdout",
     "output_type": "stream",
     "text": [
      "model output = flow_vulnerability\n",
      "model output = flow_vulnerability\n",
      "model output = flow_vulnerability\n",
      "model output = flow_vulnerability_pink\n"
     ]
    }
   ],
   "source": [
    "## Stream flow historical\n",
    "flow = data_wea00[\"Streamflow\"]\n",
    "# Chinook\n",
    "flow_vulnerability00_chinook = fishmod_utils.stream_mod(flow, fo=424, a=12818, b=424)\n",
    "# Sockeye\n",
    "flow_vulnerability00_sockeye = fishmod_utils.stream_mod(flow, fo=390, a=946, b=390)\n",
    "# Coho\n",
    "flow_vulnerability00_coho = fishmod_utils.stream_mod(flow, fo=362, a=12124, b=362)\n",
    "# Pink\n",
    "flow_vulnerability00_pink = fishmod_utils.stream_mod_pink(flow, a_max=1052, f_max=1200, f_min=0, f_opt=420)"
   ]
  },
  {
   "cell_type": "code",
   "execution_count": 18,
   "metadata": {},
   "outputs": [
    {
     "name": "stdout",
     "output_type": "stream",
     "text": [
      "model output = flow_vulnerability\n",
      "model output = flow_vulnerability\n",
      "model output = flow_vulnerability\n",
      "model output = flow_vulnerability_pink\n"
     ]
    }
   ],
   "source": [
    "## Stream flow 2040s\n",
    "flow = data_wea40[\"Streamflow\"]\n",
    "# Chinook\n",
    "flow_vulnerability40_chinook = fishmod_utils.stream_mod(flow, fo=424, a=12818, b=424)\n",
    "# Sockeye\n",
    "flow_vulnerability40_sockeye = fishmod_utils.stream_mod(flow, fo=390, a=946, b=390)\n",
    "# Coho\n",
    "flow_vulnerability40_coho = fishmod_utils.stream_mod(flow, fo=362, a=12124, b=362)\n",
    "# Pink\n",
    "flow_vulnerability40_pink = fishmod_utils.stream_mod_pink(flow, a_max=1052, f_max=1200, f_min=0, f_opt=420)"
   ]
  },
  {
   "cell_type": "code",
   "execution_count": 19,
   "metadata": {},
   "outputs": [
    {
     "name": "stdout",
     "output_type": "stream",
     "text": [
      "model output = flow_vulnerability\n",
      "model output = flow_vulnerability\n",
      "model output = flow_vulnerability\n",
      "model output = flow_vulnerability_pink\n"
     ]
    }
   ],
   "source": [
    "## stream flow 2080s\n",
    "flow = data_wea80[\"Streamflow\"]\n",
    "# Chinook\n",
    "flow_vulnerability80_chinook = fishmod_utils.stream_mod(flow, fo=424, a=12818, b=424)\n",
    "# Sockeye\n",
    "flow_vulnerability80_sockeye = fishmod_utils.stream_mod(flow, fo=390, a=946, b=390)\n",
    "# Coho\n",
    "flow_vulnerability80_coho = fishmod_utils.stream_mod(flow, fo=362, a=12124, b=362)\n",
    "# Pink\n",
    "flow_vulnerability80_pink = fishmod_utils.stream_mod_pink(flow, a_max=1052, f_max=1200, f_min=0, f_opt=420)"
   ]
  },
  {
   "cell_type": "markdown",
   "metadata": {},
   "source": [
    "#### Combining temperature & streamflow vulnerability projections, assigning equal weight to each output"
   ]
  },
  {
   "cell_type": "code",
   "execution_count": 20,
   "metadata": {
    "collapsed": true
   },
   "outputs": [],
   "source": [
    "## Year Historical\n",
    "# Chinook\n",
    "chinook_vulnerability00 = pd.DataFrame(round(temp_vulnerability00*0.5 + flow_vulnerability00_chinook*0.5))\n",
    "# Sockeye\n",
    "sockeye_vulnerability00 = pd.DataFrame(round(temp_vulnerability00*0.5 + flow_vulnerability00_sockeye*0.5))\n",
    "# Coho\n",
    "coho_vulnerability00 = pd.DataFrame(round(temp_vulnerability00*0.5 + flow_vulnerability00_coho*0.5))\n",
    "# Pink\n",
    "pink_vulnerability00 = pd.DataFrame(round(temp_vulnerability00*0.5 + flow_vulnerability00_pink*0.5))"
   ]
  },
  {
   "cell_type": "code",
   "execution_count": 21,
   "metadata": {
    "collapsed": true
   },
   "outputs": [],
   "source": [
    "## Year 2040s\n",
    "# Chinook\n",
    "chinook_vulnerability40 = pd.DataFrame(round(temp_vulnerability40*0.5 + flow_vulnerability40_chinook*0.5))\n",
    "# Sockeye\n",
    "sockeye_vulnerability40 = pd.DataFrame(round(temp_vulnerability40*0.5 + flow_vulnerability40_sockeye*0.5))\n",
    "# Coho\n",
    "coho_vulnerability40 = pd.DataFrame(round(temp_vulnerability40*0.5 + flow_vulnerability40_coho*0.5))\n",
    "# Pink\n",
    "pink_vulnerability40 = pd.DataFrame(round(temp_vulnerability40*0.5 + flow_vulnerability40_pink*0.5))"
   ]
  },
  {
   "cell_type": "code",
   "execution_count": 22,
   "metadata": {
    "collapsed": true
   },
   "outputs": [],
   "source": [
    "## Year 2080s\n",
    "# Chinook\n",
    "chinook_vulnerability80 = pd.DataFrame(round(temp_vulnerability80*0.5 + flow_vulnerability80_chinook*0.5))\n",
    "# Sockeye\n",
    "sockeye_vulnerability80 = pd.DataFrame(round(temp_vulnerability80*0.5 + flow_vulnerability80_sockeye*0.5))\n",
    "# Coho\n",
    "coho_vulnerability80 = pd.DataFrame(round(temp_vulnerability80*0.5 + flow_vulnerability80_coho*0.5))\n",
    "# Pink\n",
    "pink_vulnerability80 = pd.DataFrame(round(temp_vulnerability80*0.5 + flow_vulnerability80_pink*0.5))"
   ]
  },
  {
   "cell_type": "markdown",
   "metadata": {},
   "source": [
    "#### Combining all model outputs to a dataframe"
   ]
  },
  {
   "cell_type": "code",
   "execution_count": 24,
   "metadata": {
    "collapsed": true
   },
   "outputs": [],
   "source": [
    "## make a sub-dataframe for each species - historical\n",
    "# Chinook\n",
    "chinook_00 = data_wea00\n",
    "chinook_00 = chinook_00.assign(Species='Chinook')\n",
    "chinook_00[\"Viability\"] = chinook_vulnerability00\n",
    "# Sockeye\n",
    "sockeye_00 = data_wea00\n",
    "sockeye_00 = sockeye_00.assign(Species='Sockeye')\n",
    "sockeye_00[\"Viability\"] = sockeye_vulnerability00\n",
    "# Coho\n",
    "coho_00 = data_wea00\n",
    "coho_00 = coho_00.assign(Species='Coho')\n",
    "coho_00[\"Viability\"] = coho_vulnerability00\n",
    "# Pink\n",
    "pink_00 = data_wea00\n",
    "pink_00 = pink_00.assign(Species='Pink')\n",
    "pink_00[\"Viability\"] = pink_vulnerability00"
   ]
  },
  {
   "cell_type": "code",
   "execution_count": 25,
   "metadata": {
    "collapsed": true
   },
   "outputs": [],
   "source": [
    "## make a sub-dataframe for each species - 40s\n",
    "# Chinook\n",
    "chinook_40 = data_wea40\n",
    "chinook_40 = chinook_40.assign(Species='Chinook')\n",
    "chinook_40[\"Viability\"] = chinook_vulnerability40\n",
    "# Sockeye\n",
    "sockeye_40 = data_wea40\n",
    "sockeye_40 = sockeye_40.assign(Species='Sockeye')\n",
    "sockeye_40[\"Viability\"] = sockeye_vulnerability40\n",
    "# Coho\n",
    "coho_40 = data_wea40\n",
    "coho_40 = coho_40.assign(Species='Coho')\n",
    "coho_40[\"Viability\"] = coho_vulnerability40\n",
    "# Pink\n",
    "pink_40 = data_wea40\n",
    "pink_40 = pink_40.assign(Species='Pink')\n",
    "pink_40[\"Viability\"] = pink_vulnerability40"
   ]
  },
  {
   "cell_type": "code",
   "execution_count": 26,
   "metadata": {
    "collapsed": true
   },
   "outputs": [],
   "source": [
    "## make a sub-dataframe for each species - 80s\n",
    "# Chinook\n",
    "chinook_80 = data_wea80\n",
    "chinook_80 = chinook_80.assign(Species='Chinook')\n",
    "chinook_80[\"Viability\"] = chinook_vulnerability80\n",
    "# Sockeye\n",
    "sockeye_80 = data_wea80\n",
    "sockeye_80 = sockeye_80.assign(Species='Sockeye')\n",
    "sockeye_80[\"Viability\"] = sockeye_vulnerability80\n",
    "# Coho\n",
    "coho_80 = data_wea80\n",
    "coho_80 = coho_80.assign(Species='Coho')\n",
    "coho_80[\"Viability\"] = coho_vulnerability80\n",
    "# Pink\n",
    "pink_80 = data_wea80\n",
    "pink_80 = pink_80.assign(Species='Pink')\n",
    "pink_80[\"Viability\"] = pink_vulnerability80"
   ]
  },
  {
   "cell_type": "markdown",
   "metadata": {},
   "source": [
    "#### Merging output"
   ]
  },
  {
   "cell_type": "code",
   "execution_count": 27,
   "metadata": {},
   "outputs": [
    {
     "data": {
      "text/html": [
       "<div>\n",
       "<table border=\"1\" class=\"dataframe\">\n",
       "  <thead>\n",
       "    <tr style=\"text-align: right;\">\n",
       "      <th></th>\n",
       "      <th>Site ID</th>\n",
       "      <th>Basin</th>\n",
       "      <th>Latitude</th>\n",
       "      <th>Longitude</th>\n",
       "      <th>Temperature</th>\n",
       "      <th>Streamflow</th>\n",
       "      <th>Decade</th>\n",
       "      <th>Species</th>\n",
       "      <th>Viability</th>\n",
       "    </tr>\n",
       "  </thead>\n",
       "  <tbody>\n",
       "    <tr>\n",
       "      <th>344</th>\n",
       "      <td>BLAGA</td>\n",
       "      <td>Little Blackfoot</td>\n",
       "      <td>46.519483</td>\n",
       "      <td>-112.793172</td>\n",
       "      <td>11.266231</td>\n",
       "      <td>26.926286</td>\n",
       "      <td>1993-2005</td>\n",
       "      <td>Pink</td>\n",
       "      <td>4.0</td>\n",
       "    </tr>\n",
       "    <tr>\n",
       "      <th>345</th>\n",
       "      <td>SILSP</td>\n",
       "      <td>Silver Bow Creek</td>\n",
       "      <td>46.179497</td>\n",
       "      <td>-112.780561</td>\n",
       "      <td>11.386308</td>\n",
       "      <td>5.121714</td>\n",
       "      <td>1993-2005</td>\n",
       "      <td>Pink</td>\n",
       "      <td>3.0</td>\n",
       "    </tr>\n",
       "    <tr>\n",
       "      <th>346</th>\n",
       "      <td>CLAGA</td>\n",
       "      <td>Clark Fork</td>\n",
       "      <td>46.208242</td>\n",
       "      <td>-112.767350</td>\n",
       "      <td>11.416308</td>\n",
       "      <td>106.270286</td>\n",
       "      <td>1993-2005</td>\n",
       "      <td>Pink</td>\n",
       "      <td>4.0</td>\n",
       "    </tr>\n",
       "    <tr>\n",
       "      <th>347</th>\n",
       "      <td>CLALO</td>\n",
       "      <td>Clark Fork</td>\n",
       "      <td>46.397650</td>\n",
       "      <td>-112.742539</td>\n",
       "      <td>11.436231</td>\n",
       "      <td>151.320000</td>\n",
       "      <td>1993-2005</td>\n",
       "      <td>Pink</td>\n",
       "      <td>4.0</td>\n",
       "    </tr>\n",
       "    <tr>\n",
       "      <th>348</th>\n",
       "      <td>BLADA</td>\n",
       "      <td>Blackfoot</td>\n",
       "      <td>42.815278</td>\n",
       "      <td>-111.506667</td>\n",
       "      <td>-1994.523846</td>\n",
       "      <td>59.907000</td>\n",
       "      <td>1993-2005</td>\n",
       "      <td>Pink</td>\n",
       "      <td>NaN</td>\n",
       "    </tr>\n",
       "  </tbody>\n",
       "</table>\n",
       "</div>"
      ],
      "text/plain": [
       "    Site ID             Basin   Latitude   Longitude  Temperature  Streamflow  \\\n",
       "344   BLAGA  Little Blackfoot  46.519483 -112.793172    11.266231   26.926286   \n",
       "345   SILSP  Silver Bow Creek  46.179497 -112.780561    11.386308    5.121714   \n",
       "346   CLAGA        Clark Fork  46.208242 -112.767350    11.416308  106.270286   \n",
       "347   CLALO        Clark Fork  46.397650 -112.742539    11.436231  151.320000   \n",
       "348   BLADA         Blackfoot  42.815278 -111.506667 -1994.523846   59.907000   \n",
       "\n",
       "        Decade Species  Viability  \n",
       "344  1993-2005    Pink        4.0  \n",
       "345  1993-2005    Pink        3.0  \n",
       "346  1993-2005    Pink        4.0  \n",
       "347  1993-2005    Pink        4.0  \n",
       "348  1993-2005    Pink        NaN  "
      ]
     },
     "execution_count": 27,
     "metadata": {},
     "output_type": "execute_result"
    }
   ],
   "source": [
    "fish_vulnerability_00 = chinook_00.append(sockeye_00).append(coho_00).append(pink_00)\n",
    "fish_vulnerability_00.tail()"
   ]
  },
  {
   "cell_type": "code",
   "execution_count": 28,
   "metadata": {},
   "outputs": [
    {
     "data": {
      "text/html": [
       "<div>\n",
       "<table border=\"1\" class=\"dataframe\">\n",
       "  <thead>\n",
       "    <tr style=\"text-align: right;\">\n",
       "      <th></th>\n",
       "      <th>Site ID</th>\n",
       "      <th>Basin</th>\n",
       "      <th>Latitude</th>\n",
       "      <th>Longitude</th>\n",
       "      <th>Temperature</th>\n",
       "      <th>Streamflow</th>\n",
       "      <th>Decade</th>\n",
       "      <th>Species</th>\n",
       "      <th>Viability</th>\n",
       "    </tr>\n",
       "  </thead>\n",
       "  <tbody>\n",
       "    <tr>\n",
       "      <th>344</th>\n",
       "      <td>BLAGA</td>\n",
       "      <td>Little Blackfoot</td>\n",
       "      <td>46.519483</td>\n",
       "      <td>-112.793172</td>\n",
       "      <td>18.678</td>\n",
       "      <td>16.628886</td>\n",
       "      <td>2030-2059</td>\n",
       "      <td>Pink</td>\n",
       "      <td>4.0</td>\n",
       "    </tr>\n",
       "    <tr>\n",
       "      <th>345</th>\n",
       "      <td>SILSP</td>\n",
       "      <td>Silver Bow Creek</td>\n",
       "      <td>46.179497</td>\n",
       "      <td>-112.780561</td>\n",
       "      <td>18.824</td>\n",
       "      <td>4.115029</td>\n",
       "      <td>2030-2059</td>\n",
       "      <td>Pink</td>\n",
       "      <td>3.0</td>\n",
       "    </tr>\n",
       "    <tr>\n",
       "      <th>346</th>\n",
       "      <td>CLAGA</td>\n",
       "      <td>Clark Fork</td>\n",
       "      <td>46.208242</td>\n",
       "      <td>-112.767350</td>\n",
       "      <td>18.860</td>\n",
       "      <td>77.583186</td>\n",
       "      <td>2030-2059</td>\n",
       "      <td>Pink</td>\n",
       "      <td>4.0</td>\n",
       "    </tr>\n",
       "    <tr>\n",
       "      <th>347</th>\n",
       "      <td>CLALO</td>\n",
       "      <td>Clark Fork</td>\n",
       "      <td>46.397650</td>\n",
       "      <td>-112.742539</td>\n",
       "      <td>18.884</td>\n",
       "      <td>110.710457</td>\n",
       "      <td>2030-2059</td>\n",
       "      <td>Pink</td>\n",
       "      <td>4.0</td>\n",
       "    </tr>\n",
       "    <tr>\n",
       "      <th>348</th>\n",
       "      <td>BLADA</td>\n",
       "      <td>Blackfoot</td>\n",
       "      <td>42.815278</td>\n",
       "      <td>-111.506667</td>\n",
       "      <td>13.516</td>\n",
       "      <td>33.855129</td>\n",
       "      <td>2030-2059</td>\n",
       "      <td>Pink</td>\n",
       "      <td>4.0</td>\n",
       "    </tr>\n",
       "  </tbody>\n",
       "</table>\n",
       "</div>"
      ],
      "text/plain": [
       "    Site ID             Basin   Latitude   Longitude  Temperature  Streamflow  \\\n",
       "344   BLAGA  Little Blackfoot  46.519483 -112.793172       18.678   16.628886   \n",
       "345   SILSP  Silver Bow Creek  46.179497 -112.780561       18.824    4.115029   \n",
       "346   CLAGA        Clark Fork  46.208242 -112.767350       18.860   77.583186   \n",
       "347   CLALO        Clark Fork  46.397650 -112.742539       18.884  110.710457   \n",
       "348   BLADA         Blackfoot  42.815278 -111.506667       13.516   33.855129   \n",
       "\n",
       "        Decade Species  Viability  \n",
       "344  2030-2059    Pink        4.0  \n",
       "345  2030-2059    Pink        3.0  \n",
       "346  2030-2059    Pink        4.0  \n",
       "347  2030-2059    Pink        4.0  \n",
       "348  2030-2059    Pink        4.0  "
      ]
     },
     "execution_count": 28,
     "metadata": {},
     "output_type": "execute_result"
    }
   ],
   "source": [
    "fish_vulnerability_40 = chinook_40.append(sockeye_40).append(coho_40).append(pink_40)\n",
    "fish_vulnerability_40.tail()"
   ]
  },
  {
   "cell_type": "code",
   "execution_count": 29,
   "metadata": {},
   "outputs": [
    {
     "data": {
      "text/html": [
       "<div>\n",
       "<table border=\"1\" class=\"dataframe\">\n",
       "  <thead>\n",
       "    <tr style=\"text-align: right;\">\n",
       "      <th></th>\n",
       "      <th>Site ID</th>\n",
       "      <th>Basin</th>\n",
       "      <th>Latitude</th>\n",
       "      <th>Longitude</th>\n",
       "      <th>Temperature</th>\n",
       "      <th>Streamflow</th>\n",
       "      <th>Decade</th>\n",
       "      <th>Species</th>\n",
       "      <th>Viability</th>\n",
       "    </tr>\n",
       "  </thead>\n",
       "  <tbody>\n",
       "    <tr>\n",
       "      <th>344</th>\n",
       "      <td>BLAGA</td>\n",
       "      <td>Little Blackfoot</td>\n",
       "      <td>46.519483</td>\n",
       "      <td>-112.793172</td>\n",
       "      <td>19.760</td>\n",
       "      <td>21.142771</td>\n",
       "      <td>2070-2099</td>\n",
       "      <td>Pink</td>\n",
       "      <td>4.0</td>\n",
       "    </tr>\n",
       "    <tr>\n",
       "      <th>345</th>\n",
       "      <td>SILSP</td>\n",
       "      <td>Silver Bow Creek</td>\n",
       "      <td>46.179497</td>\n",
       "      <td>-112.780561</td>\n",
       "      <td>19.907</td>\n",
       "      <td>4.832086</td>\n",
       "      <td>2070-2099</td>\n",
       "      <td>Pink</td>\n",
       "      <td>3.0</td>\n",
       "    </tr>\n",
       "    <tr>\n",
       "      <th>346</th>\n",
       "      <td>CLAGA</td>\n",
       "      <td>Clark Fork</td>\n",
       "      <td>46.208242</td>\n",
       "      <td>-112.767350</td>\n",
       "      <td>19.943</td>\n",
       "      <td>81.986157</td>\n",
       "      <td>2070-2099</td>\n",
       "      <td>Pink</td>\n",
       "      <td>4.0</td>\n",
       "    </tr>\n",
       "    <tr>\n",
       "      <th>347</th>\n",
       "      <td>CLALO</td>\n",
       "      <td>Clark Fork</td>\n",
       "      <td>46.397650</td>\n",
       "      <td>-112.742539</td>\n",
       "      <td>19.968</td>\n",
       "      <td>114.338129</td>\n",
       "      <td>2070-2099</td>\n",
       "      <td>Pink</td>\n",
       "      <td>4.0</td>\n",
       "    </tr>\n",
       "    <tr>\n",
       "      <th>348</th>\n",
       "      <td>BLADA</td>\n",
       "      <td>Blackfoot</td>\n",
       "      <td>42.815278</td>\n",
       "      <td>-111.506667</td>\n",
       "      <td>14.535</td>\n",
       "      <td>43.218700</td>\n",
       "      <td>2070-2099</td>\n",
       "      <td>Pink</td>\n",
       "      <td>4.0</td>\n",
       "    </tr>\n",
       "  </tbody>\n",
       "</table>\n",
       "</div>"
      ],
      "text/plain": [
       "    Site ID             Basin   Latitude   Longitude  Temperature  Streamflow  \\\n",
       "344   BLAGA  Little Blackfoot  46.519483 -112.793172       19.760   21.142771   \n",
       "345   SILSP  Silver Bow Creek  46.179497 -112.780561       19.907    4.832086   \n",
       "346   CLAGA        Clark Fork  46.208242 -112.767350       19.943   81.986157   \n",
       "347   CLALO        Clark Fork  46.397650 -112.742539       19.968  114.338129   \n",
       "348   BLADA         Blackfoot  42.815278 -111.506667       14.535   43.218700   \n",
       "\n",
       "        Decade Species  Viability  \n",
       "344  2070-2099    Pink        4.0  \n",
       "345  2070-2099    Pink        3.0  \n",
       "346  2070-2099    Pink        4.0  \n",
       "347  2070-2099    Pink        4.0  \n",
       "348  2070-2099    Pink        4.0  "
      ]
     },
     "execution_count": 29,
     "metadata": {},
     "output_type": "execute_result"
    }
   ],
   "source": [
    "fish_vulnerability_80 = chinook_80.append(sockeye_80).append(coho_80).append(pink_80)\n",
    "fish_vulnerability_80.tail()"
   ]
  },
  {
   "cell_type": "code",
   "execution_count": 30,
   "metadata": {},
   "outputs": [
    {
     "data": {
      "text/html": [
       "<div>\n",
       "<table border=\"1\" class=\"dataframe\">\n",
       "  <thead>\n",
       "    <tr style=\"text-align: right;\">\n",
       "      <th></th>\n",
       "      <th>Site ID</th>\n",
       "      <th>Basin</th>\n",
       "      <th>Latitude</th>\n",
       "      <th>Longitude</th>\n",
       "      <th>Temperature</th>\n",
       "      <th>Streamflow</th>\n",
       "      <th>Decade</th>\n",
       "      <th>Species</th>\n",
       "      <th>Viability</th>\n",
       "    </tr>\n",
       "  </thead>\n",
       "  <tbody>\n",
       "    <tr>\n",
       "      <th>344</th>\n",
       "      <td>BLAGA</td>\n",
       "      <td>Little Blackfoot</td>\n",
       "      <td>46.519483</td>\n",
       "      <td>-112.793172</td>\n",
       "      <td>19.760</td>\n",
       "      <td>21.142771</td>\n",
       "      <td>2070-2099</td>\n",
       "      <td>Pink</td>\n",
       "      <td>4.0</td>\n",
       "    </tr>\n",
       "    <tr>\n",
       "      <th>345</th>\n",
       "      <td>SILSP</td>\n",
       "      <td>Silver Bow Creek</td>\n",
       "      <td>46.179497</td>\n",
       "      <td>-112.780561</td>\n",
       "      <td>19.907</td>\n",
       "      <td>4.832086</td>\n",
       "      <td>2070-2099</td>\n",
       "      <td>Pink</td>\n",
       "      <td>3.0</td>\n",
       "    </tr>\n",
       "    <tr>\n",
       "      <th>346</th>\n",
       "      <td>CLAGA</td>\n",
       "      <td>Clark Fork</td>\n",
       "      <td>46.208242</td>\n",
       "      <td>-112.767350</td>\n",
       "      <td>19.943</td>\n",
       "      <td>81.986157</td>\n",
       "      <td>2070-2099</td>\n",
       "      <td>Pink</td>\n",
       "      <td>4.0</td>\n",
       "    </tr>\n",
       "    <tr>\n",
       "      <th>347</th>\n",
       "      <td>CLALO</td>\n",
       "      <td>Clark Fork</td>\n",
       "      <td>46.397650</td>\n",
       "      <td>-112.742539</td>\n",
       "      <td>19.968</td>\n",
       "      <td>114.338129</td>\n",
       "      <td>2070-2099</td>\n",
       "      <td>Pink</td>\n",
       "      <td>4.0</td>\n",
       "    </tr>\n",
       "    <tr>\n",
       "      <th>348</th>\n",
       "      <td>BLADA</td>\n",
       "      <td>Blackfoot</td>\n",
       "      <td>42.815278</td>\n",
       "      <td>-111.506667</td>\n",
       "      <td>14.535</td>\n",
       "      <td>43.218700</td>\n",
       "      <td>2070-2099</td>\n",
       "      <td>Pink</td>\n",
       "      <td>4.0</td>\n",
       "    </tr>\n",
       "  </tbody>\n",
       "</table>\n",
       "</div>"
      ],
      "text/plain": [
       "    Site ID             Basin   Latitude   Longitude  Temperature  Streamflow  \\\n",
       "344   BLAGA  Little Blackfoot  46.519483 -112.793172       19.760   21.142771   \n",
       "345   SILSP  Silver Bow Creek  46.179497 -112.780561       19.907    4.832086   \n",
       "346   CLAGA        Clark Fork  46.208242 -112.767350       19.943   81.986157   \n",
       "347   CLALO        Clark Fork  46.397650 -112.742539       19.968  114.338129   \n",
       "348   BLADA         Blackfoot  42.815278 -111.506667       14.535   43.218700   \n",
       "\n",
       "        Decade Species  Viability  \n",
       "344  2070-2099    Pink        4.0  \n",
       "345  2070-2099    Pink        3.0  \n",
       "346  2070-2099    Pink        4.0  \n",
       "347  2070-2099    Pink        4.0  \n",
       "348  2070-2099    Pink        4.0  "
      ]
     },
     "execution_count": 30,
     "metadata": {},
     "output_type": "execute_result"
    }
   ],
   "source": [
    "fish_vulnerability = fish_vulnerability_00.append(fish_vulnerability_40).append(fish_vulnerability_80)\n",
    "fish_vulnerability.tail()"
   ]
  },
  {
   "cell_type": "code",
   "execution_count": 31,
   "metadata": {
    "collapsed": true
   },
   "outputs": [],
   "source": [
    "fish_vulnerability.to_csv(\"fish_vulnerability_new.csv\")"
   ]
  }
 ],
 "metadata": {
  "kernelspec": {
   "display_name": "Python 3",
   "language": "python",
   "name": "python3"
  },
  "language_info": {
   "codemirror_mode": {
    "name": "ipython",
    "version": 3
   },
   "file_extension": ".py",
   "mimetype": "text/x-python",
   "name": "python",
   "nbconvert_exporter": "python",
   "pygments_lexer": "ipython3",
   "version": "3.6.0"
  }
 },
 "nbformat": 4,
 "nbformat_minor": 2
}
