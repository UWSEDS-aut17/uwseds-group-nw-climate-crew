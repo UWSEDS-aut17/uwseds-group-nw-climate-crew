{
 "cells": [
  {
   "cell_type": "markdown",
   "metadata": {},
   "source": [
    "### Temperature Model - Beta Function\n",
    "\n",
    "####  Model Equation \n",
    "$R =R_{max}*\\left(\\frac{T_{max}-Temp}{T_{max}-T_{opt}}\\right)*\\left(\\frac{Temp-T_{min}}{T_{opt}-T_{min}}\\right)^\\frac{T_{opt}-T_{min}}{T_{max}-T_{opt}}$\n",
    "\n",
    "#### Parameters\n",
    "$R$: Growth Rate  \n",
    "$R_{max}$: Maximal Growth Rate (3.25)  \n",
    "$T_{max}$: Maximal Growth Temperature (25)  \n",
    "$T_{min}$: Minimal Growth Temperature (-5)       \n",
    "$T_{opt}$: Optimal Growth Temperature (17.6)  \n",
    "\n",
    "#### Required Input\n",
    "\n",
    "\n",
    "Monthly maximal temperature"
   ]
  },
  {
   "cell_type": "code",
   "execution_count": null,
   "metadata": {
    "collapsed": true
   },
   "outputs": [],
   "source": []
  },
  {
   "cell_type": "code",
   "execution_count": null,
   "metadata": {
    "collapsed": true
   },
   "outputs": [],
   "source": []
  },
  {
   "cell_type": "code",
   "execution_count": null,
   "metadata": {
    "collapsed": true
   },
   "outputs": [],
   "source": []
  },
  {
   "cell_type": "markdown",
   "metadata": {},
   "source": [
    "### Stream Flow Model\n",
    "\n",
    "#### Chinook\n",
    "Spawn_Area = a/(1+((Flow-Fo)/b)^2)\n",
    "Fo = 424  \n",
    "a = 12818  \n",
    "b = 424  \n",
    "\n",
    "#### Sockeye\n",
    "Spawn_Area = a/(1+((Flow-Fo)/b)^2)  \n",
    "Fo = 390  \n",
    "a = 946   \n",
    "b = 390  \n",
    "\n",
    "#### Coho\n",
    "Spawn_Area = a/(1+((Flow-Fo)/b)^2)  \n",
    "Fo = 362   \n",
    "a = 12124   \n",
    "b = 362  \n",
    "\n",
    "#### Pink\n",
    "Spawn_Area = Amax*((Fmax-Flow)/(Fmax-Fopt))*((Flow-Fmin)/(Fopt-Fmin))^((Fopt-Fmin)/(Fmax-Fopt))  \n",
    "Amax = 1052  \n",
    "Fmax = 1200   \n",
    "Fmin = 0   \n",
    "Fopt = 420  "
   ]
  },
  {
   "cell_type": "code",
   "execution_count": null,
   "metadata": {
    "collapsed": true
   },
   "outputs": [],
   "source": []
  },
  {
   "cell_type": "code",
   "execution_count": null,
   "metadata": {
    "collapsed": true
   },
   "outputs": [],
   "source": []
  },
  {
   "cell_type": "code",
   "execution_count": null,
   "metadata": {
    "collapsed": true
   },
   "outputs": [],
   "source": []
  },
  {
   "cell_type": "markdown",
   "metadata": {},
   "source": [
    "### Model Output Interpretation\n",
    "#### Feeding the two models future temperature and stream flow projections and ranking the outputs into fish happiness 1-5"
   ]
  },
  {
   "cell_type": "code",
   "execution_count": null,
   "metadata": {
    "collapsed": true
   },
   "outputs": [],
   "source": []
  },
  {
   "cell_type": "code",
   "execution_count": null,
   "metadata": {
    "collapsed": true
   },
   "outputs": [],
   "source": []
  },
  {
   "cell_type": "code",
   "execution_count": null,
   "metadata": {
    "collapsed": true
   },
   "outputs": [],
   "source": []
  },
  {
   "cell_type": "code",
   "execution_count": null,
   "metadata": {
    "collapsed": true
   },
   "outputs": [],
   "source": []
  }
 ],
 "metadata": {
  "kernelspec": {
   "display_name": "Python 3",
   "language": "python",
   "name": "python3"
  },
  "language_info": {
   "codemirror_mode": {
    "name": "ipython",
    "version": 3
   },
   "file_extension": ".py",
   "mimetype": "text/x-python",
   "name": "python",
   "nbconvert_exporter": "python",
   "pygments_lexer": "ipython3",
   "version": "3.6.0"
  }
 },
 "nbformat": 4,
 "nbformat_minor": 2
}
