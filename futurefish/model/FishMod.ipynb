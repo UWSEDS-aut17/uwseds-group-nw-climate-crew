{
 "cells": [
  {
   "cell_type": "markdown",
   "metadata": {},
   "source": [
    "### Temperature Model\n",
    "\n",
    "####  Model Equation \n",
    "$R =R_{max}*\\left(\\frac{T_{max}-Temp}{T_{max}-T_{opt}}\\right)*\\left(\\frac{Temp-T_{min}}{T_{opt}-T_{min}}\\right)^\\frac{T_{opt}-T_{min}}{T_{max}-T_{opt}}$\n",
    "\n",
    "#### Parameters\n",
    "$R$: Growth Rate  \n",
    "$R_{max}$: Maximal Growth Rate (4.0)  \n",
    "$T_{max}$: Maximal Growth Temperature (30)  \n",
    "$T_{min}$: Minimal Growth Temperature (-5)       \n",
    "$T_{opt}$: Optimal Growth Temperature (17.6)  \n",
    "\n",
    "#### Required Input\n",
    "Monthly maximal temperature"
   ]
  },
  {
   "cell_type": "markdown",
   "metadata": {},
   "source": [
    "### Stream Flow Model\n",
    "\n",
    "#### Chinook\n",
    "Spawn_Area = a/(1+((Flow-Fo)/b)^2)\n",
    "Fo = 424  \n",
    "a = 12818  \n",
    "b = 424  \n",
    "\n",
    "#### Sockeye\n",
    "Spawn_Area = a/(1+((Flow-Fo)/b)^2)  \n",
    "Fo = 390  \n",
    "a = 946   \n",
    "b = 390  \n",
    "\n",
    "#### Coho\n",
    "Spawn_Area = a/(1+((Flow-Fo)/b)^2)  \n",
    "Fo = 362   \n",
    "a = 12124   \n",
    "b = 362  \n",
    "\n",
    "#### Pink\n",
    "Spawn_Area = Amax*((Fmax-Flow)/(Fmax-Fopt))*((Flow-Fmin)/(Fopt-Fmin))^((Fopt-Fmin)/(Fmax-Fopt))  \n",
    "Amax = 1052  \n",
    "Fmax = 1200   \n",
    "Fmin = 0   \n",
    "Fopt = 420  "
   ]
  },
  {
   "cell_type": "markdown",
   "metadata": {},
   "source": [
    "### Model Run and Output Interpretation"
   ]
  },
  {
   "cell_type": "markdown",
   "metadata": {},
   "source": [
    "#### Reading in future projections of stream temperature and stream flow"
   ]
  },
  {
   "cell_type": "code",
   "execution_count": 1,
   "metadata": {
    "collapsed": true
   },
   "outputs": [],
   "source": [
    "import fishmod_utils\n",
    "import pandas as pd"
   ]
  },
  {
   "cell_type": "code",
   "execution_count": 2,
   "metadata": {},
   "outputs": [
    {
     "data": {
      "text/html": [
       "<div>\n",
       "<table border=\"1\" class=\"dataframe\">\n",
       "  <thead>\n",
       "    <tr style=\"text-align: right;\">\n",
       "      <th></th>\n",
       "      <th>Site ID</th>\n",
       "      <th>Stream Temperature 2040s</th>\n",
       "      <th>Stream Temperature 2080s</th>\n",
       "      <th>Streamflow 2040s</th>\n",
       "      <th>Streamflow 2080s</th>\n",
       "    </tr>\n",
       "  </thead>\n",
       "  <tbody>\n",
       "    <tr>\n",
       "      <th>0</th>\n",
       "      <td>ALB</td>\n",
       "      <td>24.304</td>\n",
       "      <td>25.621</td>\n",
       "      <td>2042.155229</td>\n",
       "      <td>1955.022943</td>\n",
       "    </tr>\n",
       "    <tr>\n",
       "      <th>1</th>\n",
       "      <td>LIB</td>\n",
       "      <td>18.852</td>\n",
       "      <td>19.938</td>\n",
       "      <td>2727.771443</td>\n",
       "      <td>2488.091671</td>\n",
       "    </tr>\n",
       "    <tr>\n",
       "      <th>2</th>\n",
       "      <td>BFE</td>\n",
       "      <td>12.079</td>\n",
       "      <td>12.824</td>\n",
       "      <td>4217.675486</td>\n",
       "      <td>3687.116386</td>\n",
       "    </tr>\n",
       "    <tr>\n",
       "      <th>3</th>\n",
       "      <td>BON</td>\n",
       "      <td>19.896</td>\n",
       "      <td>21.094</td>\n",
       "      <td>67905.510514</td>\n",
       "      <td>70655.700086</td>\n",
       "    </tr>\n",
       "    <tr>\n",
       "      <th>4</th>\n",
       "      <td>HOD</td>\n",
       "      <td>22.852</td>\n",
       "      <td>23.982</td>\n",
       "      <td>251.917157</td>\n",
       "      <td>250.765671</td>\n",
       "    </tr>\n",
       "  </tbody>\n",
       "</table>\n",
       "</div>"
      ],
      "text/plain": [
       "  Site ID  Stream Temperature 2040s  Stream Temperature 2080s  \\\n",
       "0     ALB                    24.304                    25.621   \n",
       "1     LIB                    18.852                    19.938   \n",
       "2     BFE                    12.079                    12.824   \n",
       "3     BON                    19.896                    21.094   \n",
       "4     HOD                    22.852                    23.982   \n",
       "\n",
       "   Streamflow 2040s  Streamflow 2080s  \n",
       "0       2042.155229       1955.022943  \n",
       "1       2727.771443       2488.091671  \n",
       "2       4217.675486       3687.116386  \n",
       "3      67905.510514      70655.700086  \n",
       "4        251.917157        250.765671  "
      ]
     },
     "execution_count": 2,
     "metadata": {},
     "output_type": "execute_result"
    }
   ],
   "source": [
    "data = pd.read_csv(\"sites_streamflow_stream_temperature.csv\")\n",
    "data.head()"
   ]
  },
  {
   "cell_type": "markdown",
   "metadata": {},
   "source": [
    "#### Feeding futrue stream temperature into temperature model and translating outputs into fish happiness scale 1-5"
   ]
  },
  {
   "cell_type": "code",
   "execution_count": 24,
   "metadata": {},
   "outputs": [
    {
     "name": "stdout",
     "output_type": "stream",
     "text": [
      "model output = temp_vulnerability\n"
     ]
    }
   ],
   "source": [
    "# Stream temperature 2040s\n",
    "temp = data[\"Stream Temperature 2040s\"]\n",
    "temp_vulnerability40 = fishmod_utils.temp_mod(temp, r_max=4, t_max=30, t_min=-5, t_opt=17.6)"
   ]
  },
  {
   "cell_type": "code",
   "execution_count": 25,
   "metadata": {},
   "outputs": [
    {
     "name": "stdout",
     "output_type": "stream",
     "text": [
      "model output = temp_vulnerability\n"
     ]
    }
   ],
   "source": [
    "# Stream temperature 2080s\n",
    "temp = data[\"Stream Temperature 2080s\"]\n",
    "temp_vulnerability80 = fishmod_utils.temp_mod(temp, r_max=4, t_max=30, t_min=-5, t_opt=17.6)"
   ]
  },
  {
   "cell_type": "markdown",
   "metadata": {},
   "source": [
    "#### Feeding futrue streamflow into streamflow model and translating outputs into fish happiness scale 1-5"
   ]
  },
  {
   "cell_type": "code",
   "execution_count": 26,
   "metadata": {},
   "outputs": [
    {
     "name": "stdout",
     "output_type": "stream",
     "text": [
      "model output = flow_vulnerability\n",
      "model output = flow_vulnerability\n",
      "model output = flow_vulnerability\n",
      "model output = flow_vulnerability_pink\n"
     ]
    }
   ],
   "source": [
    "## Stream flow 2040s\n",
    "flow = data[\"Streamflow 2040s\"]\n",
    "\n",
    "# Chinook\n",
    "flow_vulnerability40_chinook = fishmod_utils.stream_mod(flow, fo=424, a=12818, b=424)\n",
    "# Sockeye\n",
    "flow_vulnerability40_sockeye = fishmod_utils.stream_mod(flow, fo=390, a=946, b=390)\n",
    "# Coho\n",
    "flow_vulnerability40_coho = fishmod_utils.stream_mod(flow, fo=362, a=12124, b=362)\n",
    "# Pink\n",
    "flow_vulnerability40_pink = fishmod_utils.stream_mod_pink(flow, a_max=1052, f_max=1200, f_min=0, f_opt=420)"
   ]
  },
  {
   "cell_type": "code",
   "execution_count": 27,
   "metadata": {},
   "outputs": [
    {
     "name": "stdout",
     "output_type": "stream",
     "text": [
      "model output = flow_vulnerability\n",
      "model output = flow_vulnerability\n",
      "model output = flow_vulnerability\n",
      "model output = flow_vulnerability_pink\n"
     ]
    }
   ],
   "source": [
    "## stream flow 2080s\n",
    "flow = data[\"Streamflow 2080s\"]\n",
    "\n",
    "# Chinook\n",
    "flow_vulnerability80_chinook = fishmod_utils.stream_mod(flow, fo=424, a=12818, b=424)\n",
    "# Sockeye\n",
    "flow_vulnerability80_sockeye = fishmod_utils.stream_mod(flow, fo=390, a=946, b=390)\n",
    "# Coho\n",
    "flow_vulnerability80_coho = fishmod_utils.stream_mod(flow, fo=362, a=12124, b=362)\n",
    "# Pink\n",
    "flow_vulnerability80_pink = fishmod_utils.stream_mod_pink(flow, a_max=1052, f_max=1200, f_min=0, f_opt=420)"
   ]
  },
  {
   "cell_type": "markdown",
   "metadata": {},
   "source": [
    "#### Combining temperature & streamflow vulnerability projections, assigning equal weight to each output"
   ]
  },
  {
   "cell_type": "code",
   "execution_count": 28,
   "metadata": {
    "collapsed": true
   },
   "outputs": [],
   "source": [
    "## Year 2040s\n",
    "# Chinook\n",
    "chinook_vulnerability40 = pd.DataFrame(temp_vulnerability40*0.5 + flow_vulnerability40_chinook*0.5)\n",
    "# Sockeye\n",
    "sockeye_vulnerability40 = pd.DataFrame(temp_vulnerability40*0.5 + flow_vulnerability40_sockeye*0.5)\n",
    "# Coho\n",
    "coho_vulnerability40 = pd.DataFrame(temp_vulnerability40*0.5 + flow_vulnerability40_coho*0.5)\n",
    "# Pink\n",
    "pink_vulnerability40 = pd.DataFrame(temp_vulnerability40*0.5 + flow_vulnerability40_pink*0.5)"
   ]
  },
  {
   "cell_type": "code",
   "execution_count": 31,
   "metadata": {
    "collapsed": true
   },
   "outputs": [],
   "source": [
    "## Year 2080s\n",
    "# Chinook\n",
    "chinook_vulnerability80 = pd.DataFrame(temp_vulnerability80*0.5 + flow_vulnerability80_chinook*0.5)\n",
    "# Sockeye\n",
    "sockeye_vulnerability80 = pd.DataFrame(temp_vulnerability80*0.5 + flow_vulnerability80_sockeye*0.5)\n",
    "# Coho\n",
    "coho_vulnerability80 = pd.DataFrame(temp_vulnerability80*0.5 + flow_vulnerability80_coho*0.5)\n",
    "# Pink\n",
    "pink_vulnerability80 = pd.DataFrame(temp_vulnerability80*0.5 + flow_vulnerability80_pink*0.5)"
   ]
  },
  {
   "cell_type": "markdown",
   "metadata": {},
   "source": [
    "#### Combining all model outputs to a dataframe"
   ]
  },
  {
   "cell_type": "code",
   "execution_count": 51,
   "metadata": {},
   "outputs": [],
   "source": [
    "Site = data[\"Site ID\"]\n",
    "fish_vulnerability = pd.concat([Site, chinook_vulnerability40, sockeye_vulnerability40, coho_vulnerability40, pink_vulnerability40,\n",
    "                                chinook_vulnerability80, sockeye_vulnerability80, coho_vulnerability80, pink_vulnerability80], axis=1)\n",
    "fish_vulnerability.columns = [\"Site_ID\",\"Chinook40\", \"Sockeye40\", \"Coho40\", \"Pink40\",\"Chinook80\", \"Sockeye80\", \"Coho80\", \"Pink80\"]"
   ]
  },
  {
   "cell_type": "code",
   "execution_count": 54,
   "metadata": {},
   "outputs": [
    {
     "data": {
      "text/html": [
       "<div>\n",
       "<table border=\"1\" class=\"dataframe\">\n",
       "  <thead>\n",
       "    <tr style=\"text-align: right;\">\n",
       "      <th></th>\n",
       "      <th>Site_ID</th>\n",
       "      <th>Chinook40</th>\n",
       "      <th>Sockeye40</th>\n",
       "      <th>Coho40</th>\n",
       "      <th>Pink40</th>\n",
       "      <th>Chinook80</th>\n",
       "      <th>Sockeye80</th>\n",
       "      <th>Coho80</th>\n",
       "      <th>Pink80</th>\n",
       "    </tr>\n",
       "  </thead>\n",
       "  <tbody>\n",
       "    <tr>\n",
       "      <th>0</th>\n",
       "      <td>ALB</td>\n",
       "      <td>3.0</td>\n",
       "      <td>3.0</td>\n",
       "      <td>3.0</td>\n",
       "      <td>3.0</td>\n",
       "      <td>3.0</td>\n",
       "      <td>3.0</td>\n",
       "      <td>3.0</td>\n",
       "      <td>3.0</td>\n",
       "    </tr>\n",
       "    <tr>\n",
       "      <th>1</th>\n",
       "      <td>LIB</td>\n",
       "      <td>3.0</td>\n",
       "      <td>3.0</td>\n",
       "      <td>3.0</td>\n",
       "      <td>3.0</td>\n",
       "      <td>3.0</td>\n",
       "      <td>3.0</td>\n",
       "      <td>3.0</td>\n",
       "      <td>3.0</td>\n",
       "    </tr>\n",
       "    <tr>\n",
       "      <th>2</th>\n",
       "      <td>BFE</td>\n",
       "      <td>3.0</td>\n",
       "      <td>3.0</td>\n",
       "      <td>3.0</td>\n",
       "      <td>3.0</td>\n",
       "      <td>3.0</td>\n",
       "      <td>3.0</td>\n",
       "      <td>3.0</td>\n",
       "      <td>3.0</td>\n",
       "    </tr>\n",
       "    <tr>\n",
       "      <th>3</th>\n",
       "      <td>BON</td>\n",
       "      <td>3.0</td>\n",
       "      <td>3.0</td>\n",
       "      <td>3.0</td>\n",
       "      <td>3.0</td>\n",
       "      <td>3.0</td>\n",
       "      <td>3.0</td>\n",
       "      <td>3.0</td>\n",
       "      <td>3.0</td>\n",
       "    </tr>\n",
       "    <tr>\n",
       "      <th>4</th>\n",
       "      <td>HOD</td>\n",
       "      <td>5.0</td>\n",
       "      <td>5.0</td>\n",
       "      <td>5.0</td>\n",
       "      <td>5.0</td>\n",
       "      <td>5.0</td>\n",
       "      <td>5.0</td>\n",
       "      <td>5.0</td>\n",
       "      <td>5.0</td>\n",
       "    </tr>\n",
       "  </tbody>\n",
       "</table>\n",
       "</div>"
      ],
      "text/plain": [
       "  Site_ID  Chinook40  Sockeye40  Coho40  Pink40  Chinook80  Sockeye80  Coho80  \\\n",
       "0     ALB        3.0        3.0     3.0     3.0        3.0        3.0     3.0   \n",
       "1     LIB        3.0        3.0     3.0     3.0        3.0        3.0     3.0   \n",
       "2     BFE        3.0        3.0     3.0     3.0        3.0        3.0     3.0   \n",
       "3     BON        3.0        3.0     3.0     3.0        3.0        3.0     3.0   \n",
       "4     HOD        5.0        5.0     5.0     5.0        5.0        5.0     5.0   \n",
       "\n",
       "   Pink80  \n",
       "0     3.0  \n",
       "1     3.0  \n",
       "2     3.0  \n",
       "3     3.0  \n",
       "4     5.0  "
      ]
     },
     "execution_count": 54,
     "metadata": {},
     "output_type": "execute_result"
    }
   ],
   "source": [
    "fish_vulnerability.head()"
   ]
  },
  {
   "cell_type": "code",
   "execution_count": 57,
   "metadata": {
    "collapsed": true
   },
   "outputs": [],
   "source": [
    "data.to_csv(\"fish_vulnerability.csv\")"
   ]
  }
 ],
 "metadata": {
  "kernelspec": {
   "display_name": "Python 3",
   "language": "python",
   "name": "python3"
  },
  "language_info": {
   "codemirror_mode": {
    "name": "ipython",
    "version": 3
   },
   "file_extension": ".py",
   "mimetype": "text/x-python",
   "name": "python",
   "nbconvert_exporter": "python",
   "pygments_lexer": "ipython3",
   "version": "3.6.0"
  }
 },
 "nbformat": 4,
 "nbformat_minor": 2
}
