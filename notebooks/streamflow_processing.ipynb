{
 "cells": [
  {
   "cell_type": "markdown",
   "metadata": {},
   "source": [
    "# FutureFish data processing\n",
    "### This notebook reads in stream temperature and streamflow projections under climate change for the Pacific Northwest. It creates a dataset which combines the two datasets on a common coordinate system and common temporal structure.\n",
    "### The notebook requires that the datasets have been downloaded from the following locations:\n",
    "* Stream temperature: https://www.fs.fed.us/rm/boise/AWAE/projects/NorWeST.html\n",
    "* Streamflow: www.hydro.washington.edu/CRCC\n"
   ]
  },
  {
   "cell_type": "code",
   "execution_count": null,
   "metadata": {
    "collapsed": true
   },
   "outputs": [],
   "source": [
    "%pylab inline\n",
    "import os\n",
    "import glob\n",
    "import numpy as np\n",
    "import pandas as pd\n",
    "import xarray as xr\n",
    "import geopandas as gp\n",
    "import matplotlib as mpl\n",
    "import matplotlib.pyplot as plt\n",
    "from jupyterthemes import jtplot\n",
    "import utm\n",
    "from scipy.spatial import KDTree\n",
    "jtplot.style(jtplot.infer_theme(), context='paper', fscale=2)\n",
    "jtplot.figsize(x=20, y=12)\n",
    "from futurefish.data_processing import calcLatLon, get_model_ts, \n",
    "    metric_min7day_streamflow, locate_nearest_neighbor_values,\n",
    "    create_collated_dataset_temperature, convert_coordinates\n",
    "\n",
    "# Set this parameter where you have downloaded the stream temperature files\n",
    "SHAPEFILES = glob.glob('../../data/**/**/*.shp')\n",
    "\n",
    "STREAMFLOW_META = '../futurefish/data/full_site_test_dataset.csv'\n",
    "\n",
    "# Set this parameter given your own file system with the location where\n",
    "# you have downloaded the streamflow files\n",
    "streamflow_file_directory = "
   ]
  },
  {
   "cell_type": "markdown",
   "metadata": {},
   "source": [
    "### The stream temperature dataset includes temperature projections for two climatalogical periods, the 2040s and the 2080s. There are a variety of modeling options, but we will select out:\n",
    "\n",
    "* S39_2040DM - Future Maximum Weekly Maximum Temperature (MWMT or 7DADM) stream scenario based on global climate model ensemble average projected changes for the A1B warming trajectory in the 2040s (2030-2059). Future stream deltas within a NorWeST unit account for differential sensitivity among streams so that cold streams warm less than warm streams\n",
    "* S41_2080DM -  Future Maximum Weekly Maximum Temperature (MWMT or 7DADM) stream scenario based on global climate model ensemble average projected changes for the A1B warming trajectory in the 2080s (2070-2099). Future stream deltas within a NorWeST unit account for differential sensitivity among streams so that cold streams warm less than warm streams\n",
    "* We will also select out the 14 historic years corresponding to the column names 'S3_1993', 'S4_1994', 'S5_1995', 'S6_1996', 'S7_1997', 'S8_1998', 'S9_1999', 'S10_2000', 'S11_2001', 'S12_2002', 'S13_2003', 'S14_2004', 'S15_2005'. These 14 years will be averaged to represent the historic time period.\n",
    "\n",
    "These three different periods will be compared to streamflow volume projections for coinciding time periods."
   ]
  },
  {
   "cell_type": "code",
   "execution_count": null,
   "metadata": {
    "collapsed": true
   },
   "outputs": [],
   "source": [
    "dataframes = [gp.GeoDataFrame.from_file(shpfile) for shpfile in SHAPEFILES]\n",
    "gdf = gp.GeoDataFrame(pd.concat(dataframes, ignore_index=True))"
   ]
  },
  {
   "cell_type": "code",
   "execution_count": null,
   "metadata": {
    "collapsed": true
   },
   "outputs": [],
   "source": [
    "# Extract out the variables we want to use because it's a large dataset\n",
    "# and a smaller sample will be faster to work with\n",
    "gdf_selected_columns_future = gdf[['S39_2040DM', 'S41_2080DM', 'geometry']]\n",
    "translating_temperature_keys_dictionary = {'Historical': 'Stream Temperature Historical',\n",
    "                                           'S39_2040DM': 'Stream Temperature 2040s',\n",
    "                                         'S41_2080DM':  'Stream Temperature 2080s'}\n",
    "# Remove the sites with NaNs according to the future simulations' availability\n",
    "cleaned_up_gdf_future = gdf_selected_columns_future[gdf_selected_columns_future['S39_2040DM'].notnull()]"
   ]
  },
  {
   "cell_type": "code",
   "execution_count": null,
   "metadata": {
    "collapsed": true
   },
   "outputs": [],
   "source": [
    "# These are the columns pertaining to the historic period within the \n",
    "# temperature dataset.\n",
    "gdf_selected_columns_historical = gdf[['S3_1993', 'S4_1994', 'S5_1995', 'S6_1996', 'S7_1997',\n",
    "                            'S8_1998', 'S9_1999', 'S10_2000', 'S11_2001', 'S12_2002',\n",
    "                           'S13_2003', 'S14_2004', 'S15_2005', 'geometry']]\n",
    "gdf_historical = gdf_selected_columns_historical.mean(axis=1)\n",
    "# Remove the sites with NaNs according to the future simulations' availability\n",
    "cleaned_up_gdf_historical = gdf_historical[gdf_selected_columns_future['S39_2040DM'].notnull()]\n",
    "cleaned_up_gdf_historical = pd.DataFrame(cleaned_up_gdf_historical, columns=['Historical'])"
   ]
  },
  {
   "cell_type": "code",
   "execution_count": null,
   "metadata": {
    "collapsed": true
   },
   "outputs": [],
   "source": [
    "# Convert the coordinates from eastings/northings to degrees longitude\n",
    "# and degrees latitude\n",
    "temperature_sites = convert_coordinates(gdf, 1500000)"
   ]
  },
  {
   "cell_type": "code",
   "execution_count": null,
   "metadata": {
    "collapsed": true
   },
   "outputs": [],
   "source": [
    "streamflow_sites = pd.read_csv(STREAMFLOW_META)\n",
    "# Select out the sites in the United States because the temperature data\n",
    "# is only available in the U.S. So, south of the 49th parallel!\n",
    "streamflow_sites = streamflow_sites[streamflow_sites['Latitude'] < 49 ]"
   ]
  },
  {
   "cell_type": "code",
   "execution_count": null,
   "metadata": {
    "collapsed": true
   },
   "outputs": [],
   "source": [
    "# Create the dataframe with temperature projections. In later steps the\n",
    "# dataframe will receive streamflow projections as well.\n",
    "collated_dataset = create_collated_dataset_temperature(translating_temperature_keys_dictionary,\n",
    "                           streamflow_sites,\n",
    "                           cleaned_up_gdf_future,\n",
    "                           cleaned_up_gdf_historical)"
   ]
  },
  {
   "cell_type": "code",
   "execution_count": null,
   "metadata": {
    "collapsed": true
   },
   "outputs": [],
   "source": [
    "# Specify the time slices which align with the temperature timeframes\n",
    "# prescribed in the stream temperature metadata.\n",
    "streamflow_timeframes = {'Streamflow Historical': slice('1992-10-01', '2003-09-30'),\n",
    "                        'Streamflow 2040s': slice('2029-10-01', '2059-09-30'),\n",
    "                        'Streamflow 2080s': slice('2069-10-01', '2099-09-30')}\n",
    "for site in streamflow_sites['Site ID']:\n",
    "# Read in the streamflow files\n",
    "    streamflow_file = streamflow_file_directory+'CCSM4_RCP85_MACA_VIC_P2-'+site+'-streamflow-1.0.csv'\n",
    "    df = get_model_ts(streamflow_file)\n",
    "    for (label, timeframe) in streamflow_timeframes.items():\n",
    "# For each timeframe populate the collated dataset with the calculated\n",
    "# 10th percentile minimum 7 day streamflow\n",
    "        collated_dataset.set_value(site, label, \n",
    "                                   metric_min7day_streamflow(df, \n",
    "                                        timeframe).quantile(q=0.1))"
   ]
  },
  {
   "cell_type": "code",
   "execution_count": null,
   "metadata": {
    "collapsed": true
   },
   "outputs": [],
   "source": [
    "# Write out the collated dataset to a csv file for use by the \n",
    "# fish viability model\n",
    "collated_dataset.to_csv('../futurefish/data/sites_streamflow_stream_temperature.csv')"
   ]
  }
 ],
 "metadata": {
  "kernelspec": {
   "display_name": "Python 3",
   "language": "python",
   "name": "python3"
  },
  "language_info": {
   "codemirror_mode": {
    "name": "ipython",
    "version": 3
   },
   "file_extension": ".py",
   "mimetype": "text/x-python",
   "name": "python",
   "nbconvert_exporter": "python",
   "pygments_lexer": "ipython3",
   "version": "3.6.1"
  },
  "latex_envs": {
   "LaTeX_envs_menu_present": true,
   "autocomplete": false,
   "bibliofile": "biblio.bib",
   "cite_by": "apalike",
   "current_citInitial": 1,
   "eqLabelWithNumbers": true,
   "eqNumInitial": 1,
   "hotkeys": {
    "equation": "Ctrl-E",
    "itemize": "Ctrl-I"
   },
   "labels_anchors": false,
   "latex_user_defs": false,
   "report_style_numbering": false,
   "user_envs_cfg": false
  }
 },
 "nbformat": 4,
 "nbformat_minor": 2
}
