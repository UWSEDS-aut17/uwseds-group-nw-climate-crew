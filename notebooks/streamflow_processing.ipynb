{
 "cells": [
  {
   "cell_type": "code",
   "execution_count": null,
   "metadata": {
    "collapsed": true
   },
   "outputs": [],
   "source": [
    "%pylab inline\n",
    "import os\n",
    "import glob\n",
    "import numpy as np\n",
    "import pandas as pd\n",
    "import xarray as xr\n",
    "import geopandas as gp\n",
    "import matplotlib as mpl\n",
    "import matplotlib.pyplot as plt\n",
    "from jupyterthemes import jtplot\n",
    "import utm\n",
    "from scipy.spatial import KDTree\n",
    "jtplot.style(jtplot.infer_theme(), context='paper', fscale=2)\n",
    "jtplot.figsize(x=20, y=12)\n",
    "from futurefish.data_processing import calcLatLon, get_model_ts, metric_min7day_streamflow, locate_nearest_neighbor_values\n",
    "\n",
    "SHAPEFILES = glob.glob('../../data/**/**/*.shp')\n",
    "STREAMFLOW_META = '../full_site_test_dataset.csv'"
   ]
  },
  {
   "cell_type": "markdown",
   "metadata": {},
   "source": [
    "# The stream temperature dataset includes temperature projections for two climatalogical periods, the 2040s and the 2080s. There are a variety of modeling options, but we will select out:\n",
    "\n",
    "* S39_2040DM - Future Maximum Weekly Maximum Temperature (MWMT or 7DADM) stream scenario based on global climate model ensemble average projected changes for the A1B warming trajectory in the 2040s (2030-2059). Future stream deltas within a NorWeST unit account for differential sensitivity among streams so that cold streams warm less than warm streams\n",
    "* S41_2080DM -  Future Maximum Weekly Maximum Temperature (MWMT or 7DADM) stream scenario based on global climate model ensemble average projected changes for the A1B warming trajectory in the 2080s (2070-2099). Future stream deltas within a NorWeST unit account for differential sensitivity among streams so that cold streams warm less than warm streams"
   ]
  },
  {
   "cell_type": "code",
   "execution_count": null,
   "metadata": {
    "collapsed": true
   },
   "outputs": [],
   "source": [
    "dataframes = [gp.GeoDataFrame.from_file(shpfile) for shpfile in SHAPEFILES]\n",
    "gdf = gp.GeoDataFrame(pd.concat(dataframes, ignore_index=True))"
   ]
  },
  {
   "cell_type": "code",
   "execution_count": null,
   "metadata": {
    "collapsed": true
   },
   "outputs": [],
   "source": [
    "# Extract out the variables we want to use because it's a large dataset\n",
    "# and a smaller sample will be faster to work with\n",
    "gdf_selected_columns = gdf[['S39_2040DM', 'S41_2080DM', 'geometry']]\n",
    "\n",
    "translating_temperature_keys_dictionary = {'S39_2040DM': 'Stream Temperature 2040s',\n",
    "                                         'S41_2080DM':  'Stream Temperature 2080s'}"
   ]
  },
  {
   "cell_type": "code",
   "execution_count": null,
   "metadata": {
    "collapsed": true
   },
   "outputs": [],
   "source": [
    "# Remove the sites with NaNs\n",
    "cleaned_up_gdf = gdf_selected_columns[gdf_selected_columns['S39_2040DM'].notnull()]"
   ]
  },
  {
   "cell_type": "code",
   "execution_count": null,
   "metadata": {
    "collapsed": true
   },
   "outputs": [],
   "source": [
    "# Convert the coordinates from eastings/northings to degrees longitude\n",
    "# and degrees latitude\n",
    "lat_lons = []\n",
    "for (i, point) in enumerate(cleaned_up_gdf.geometry[:]):\n",
    "    # The false easting is from streamflow temperature\n",
    "    # dataset documentation within the GIS shapefile\n",
    "    false_easting = 1500000 \n",
    "    northing = point.coords.xy[1][0]  \n",
    "    easting = point.coords.xy[0][0] - false_easting\n",
    "    [lat, lon] = calcLatLon(northing, easting)\n",
    "    lat_lons.append([lat, lon])\n",
    "temperature_sites = np.array(lat_lons)"
   ]
  },
  {
   "cell_type": "code",
   "execution_count": null,
   "metadata": {
    "collapsed": true
   },
   "outputs": [],
   "source": [
    "streamflow_sites = pd.read_csv(STREAMFLOW_META)\n",
    "\n",
    "# Select out the sites in the United States because the temperature data\n",
    "# is only available in the U.S. So, south of the 49th parallel!\n",
    "streamflow_sites = streamflow_sites[streamflow_sites['Latitude'] < 49 ]"
   ]
  },
  {
   "cell_type": "code",
   "execution_count": null,
   "metadata": {
    "collapsed": true
   },
   "outputs": [],
   "source": [
    "collated_dataset = pd.DataFrame(index=streamflow_sites['Site ID'], \n",
    "                                columns=list(translating_temperature_keys_dictionary.values()))\n",
    "for site in streamflow_sites['Site ID']:\n",
    "    \n",
    "# Loop through each location in the streamflow set and\n",
    "# select the 10 nearest points within the stream temperature set\n",
    "    point = [streamflow_sites[streamflow_sites['Site ID']==site]['Latitude'].values[0],\n",
    "             streamflow_sites[streamflow_sites['Site ID']==site]['Longitude'].values[0]]\n",
    "    locate_nearest_neighbor_values(point, cleaned_up_gdf, temperature_sites)\n",
    "    for variable in translating_temperature_keys_dictionary.keys():\n",
    "        collated_dataset.set_value(site, \n",
    "                        translating_temperature_keys_dictionary[variable], \n",
    "                        nearest_neighbors_data[variable].mean())"
   ]
  },
  {
   "cell_type": "code",
   "execution_count": null,
   "metadata": {
    "collapsed": true
   },
   "outputs": [],
   "source": [
    "streamflow_timeframes = {'Streamflow 2040s': slice('2029-10-01', '2059-09-30'),\n",
    "                        'Streamflow 2080s': slice('2069-10-01', '2099-09-30')}\n",
    "for site in streamflow_sites['Site ID']:\n",
    "    streamflow_file = '/Users/orianachegwidden/Downloads/CCSM4_RCP85-streamflow-1.0/'+ \\\n",
    "                    'streamflow/CCSM4_RCP85_MACA_VIC_P2-'+site+'-streamflow-1.0.csv'\n",
    "    df = get_model_ts(streamflow_file)\n",
    "    for (label, timeframe) in streamflow_timeframes.items():\n",
    "        collated_dataset.set_value(site, label, \n",
    "                                   metric_min7day_streamflow(df, \n",
    "                                        timeframe).quantile(q=0.1))"
   ]
  },
  {
   "cell_type": "code",
   "execution_count": null,
   "metadata": {
    "collapsed": true
   },
   "outputs": [],
   "source": [
    "collated_dataset.to_csv('./sites_streamflow_stream_temperature.csv')"
   ]
  }
 ],
 "metadata": {
  "kernelspec": {
   "display_name": "Python 3",
   "language": "python",
   "name": "python3"
  },
  "language_info": {
   "codemirror_mode": {
    "name": "ipython",
    "version": 3
   },
   "file_extension": ".py",
   "mimetype": "text/x-python",
   "name": "python",
   "nbconvert_exporter": "python",
   "pygments_lexer": "ipython3",
   "version": "3.6.1"
  },
  "latex_envs": {
   "LaTeX_envs_menu_present": true,
   "autocomplete": false,
   "bibliofile": "biblio.bib",
   "cite_by": "apalike",
   "current_citInitial": 1,
   "eqLabelWithNumbers": true,
   "eqNumInitial": 1,
   "hotkeys": {
    "equation": "Ctrl-E",
    "itemize": "Ctrl-I"
   },
   "labels_anchors": false,
   "latex_user_defs": false,
   "report_style_numbering": false,
   "user_envs_cfg": false
  }
 },
 "nbformat": 4,
 "nbformat_minor": 2
}
