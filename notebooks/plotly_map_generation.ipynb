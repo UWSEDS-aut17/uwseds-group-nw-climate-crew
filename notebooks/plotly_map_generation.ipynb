{
 "cells": [
  {
   "cell_type": "code",
   "execution_count": 2,
   "metadata": {
    "collapsed": true
   },
   "outputs": [],
   "source": [
    "import plotly.plotly as py\n",
    "from plotly.graph_objs import *\n",
    "import numpy as np\n",
    "import pandas as pd"
   ]
  },
  {
   "cell_type": "markdown",
   "metadata": {},
   "source": [
    "# Creating interactive graph\n",
    "\n",
    "### Goal: \n",
    "#### Import a csv file output from data_processing.py and output a graph with colored points at different site locations. "
   ]
  },
  {
   "cell_type": "markdown",
   "metadata": {},
   "source": [
    "##### Import a test file in the correct file format to visualize. "
   ]
  },
  {
   "cell_type": "code",
   "execution_count": 3,
   "metadata": {},
   "outputs": [
    {
     "data": {
      "text/html": [
       "<div>\n",
       "<style>\n",
       "    .dataframe thead tr:only-child th {\n",
       "        text-align: right;\n",
       "    }\n",
       "\n",
       "    .dataframe thead th {\n",
       "        text-align: left;\n",
       "    }\n",
       "\n",
       "    .dataframe tbody tr th {\n",
       "        vertical-align: top;\n",
       "    }\n",
       "</style>\n",
       "<table border=\"1\" class=\"dataframe\">\n",
       "  <thead>\n",
       "    <tr style=\"text-align: right;\">\n",
       "      <th></th>\n",
       "      <th>Site ID</th>\n",
       "      <th>Basin</th>\n",
       "      <th>Latitude</th>\n",
       "      <th>Longitude</th>\n",
       "      <th>Viability</th>\n",
       "      <th>Species</th>\n",
       "      <th>Decade</th>\n",
       "    </tr>\n",
       "  </thead>\n",
       "  <tbody>\n",
       "    <tr>\n",
       "      <th>0</th>\n",
       "      <td>ALB</td>\n",
       "      <td>Willamette</td>\n",
       "      <td>44.633300</td>\n",
       "      <td>-123.100000</td>\n",
       "      <td>4</td>\n",
       "      <td>A</td>\n",
       "      <td>2030-2059</td>\n",
       "    </tr>\n",
       "    <tr>\n",
       "      <th>1</th>\n",
       "      <td>BRI</td>\n",
       "      <td>Kootenay</td>\n",
       "      <td>49.324444</td>\n",
       "      <td>-117.620278</td>\n",
       "      <td>4</td>\n",
       "      <td>A</td>\n",
       "      <td>2030-2059</td>\n",
       "    </tr>\n",
       "    <tr>\n",
       "      <th>2</th>\n",
       "      <td>COR</td>\n",
       "      <td>Kootenay</td>\n",
       "      <td>49.466944</td>\n",
       "      <td>-117.466944</td>\n",
       "      <td>3</td>\n",
       "      <td>A</td>\n",
       "      <td>2030-2059</td>\n",
       "    </tr>\n",
       "    <tr>\n",
       "      <th>3</th>\n",
       "      <td>DCD</td>\n",
       "      <td>Kootenay</td>\n",
       "      <td>50.266667</td>\n",
       "      <td>-116.946389</td>\n",
       "      <td>2</td>\n",
       "      <td>A</td>\n",
       "      <td>2030-2059</td>\n",
       "    </tr>\n",
       "    <tr>\n",
       "      <th>4</th>\n",
       "      <td>LIB</td>\n",
       "      <td>Kootenay</td>\n",
       "      <td>48.411700</td>\n",
       "      <td>-115.309400</td>\n",
       "      <td>2</td>\n",
       "      <td>A</td>\n",
       "      <td>2030-2059</td>\n",
       "    </tr>\n",
       "  </tbody>\n",
       "</table>\n",
       "</div>"
      ],
      "text/plain": [
       "  Site ID       Basin   Latitude   Longitude  Viability Species     Decade\n",
       "0     ALB  Willamette  44.633300 -123.100000          4       A  2030-2059\n",
       "1     BRI    Kootenay  49.324444 -117.620278          4       A  2030-2059\n",
       "2     COR    Kootenay  49.466944 -117.466944          3       A  2030-2059\n",
       "3     DCD    Kootenay  50.266667 -116.946389          2       A  2030-2059\n",
       "4     LIB    Kootenay  48.411700 -115.309400          2       A  2030-2059"
      ]
     },
     "execution_count": 3,
     "metadata": {},
     "output_type": "execute_result"
    }
   ],
   "source": [
    "df = pd.read_csv('/Users/katiebrennan/Documents'+\n",
    "                 '/UW/CSE583/uwseds-group-nw-climate-crew'+\n",
    "                 '/futurefish/data/tiny_site_test_dataset.csv')\n",
    "df.head()"
   ]
  },
  {
   "cell_type": "markdown",
   "metadata": {},
   "source": [
    "##### Access code needed for using mapbox"
   ]
  },
  {
   "cell_type": "code",
   "execution_count": 4,
   "metadata": {
    "collapsed": true
   },
   "outputs": [],
   "source": [
    "mapbox_access_token = 'pk.eyJ1IjoibWticmVubmFuIiwiYSI6ImNqYW12OGxjYjM1MXUzM28yMXhpdWE3NW0ifQ.EljNVtky3qEFfvJL80RgMQ'"
   ]
  },
  {
   "cell_type": "markdown",
   "metadata": {},
   "source": [
    "##### Creating the street light color bar that indicates fish viability. "
   ]
  },
  {
   "cell_type": "code",
   "execution_count": 5,
   "metadata": {
    "collapsed": true
   },
   "outputs": [],
   "source": [
    "scl = [[0, 'rgb(0, 102, 0)'],[0.2, 'rgb(0, 102, 0)'],\\\n",
    "       [0.2, 'rgb(128, 255, 0)'], [0.4, 'rgb(128, 255, 0)'],\\\n",
    "       [0.4, 'rgb(255, 255, 51)'], [0.6, 'rgb(255, 255, 51)'],\\\n",
    "       [0.6, 'rgb(255, 153, 51)'], [0.8, 'rgb(255, 153, 51)'],\\\n",
    "       [0.8, 'rgb(255, 6, 6)'], [1.0, 'rgb(255, 6, 6)']]"
   ]
  },
  {
   "cell_type": "markdown",
   "metadata": {},
   "source": [
    "##### Input the data to be visualized and in what format it should appear in: "
   ]
  },
  {
   "cell_type": "code",
   "execution_count": 6,
   "metadata": {
    "collapsed": true
   },
   "outputs": [],
   "source": [
    "all_data = Scattermapbox(\n",
    "        lon = df['Longitude'],\n",
    "        lat = df['Latitude'],\n",
    "        mode='markers',\n",
    "        marker=Marker(\n",
    "            size=8,\n",
    "            symbol='circle',\n",
    "            colorscale = scl,\n",
    "            cmin = 1,\n",
    "            color = df['Viability'],\n",
    "            cmax = df['Viability'].max(),\n",
    "            colorbar=dict(\n",
    "                title=\"Viability of Salmon Life\",\n",
    "                titleside = 'top',\n",
    "                tickmode = 'array',\n",
    "                tickvals = [1.3,2.2,3.0,3.8,4.5],\n",
    "                ticktext = ['Great','Good','Mmm?','Nope','Yikes!'],\n",
    "                ticks = 'outside'    \n",
    "            ),\n",
    "        ),\n",
    "    )"
   ]
  },
  {
   "cell_type": "code",
   "execution_count": 7,
   "metadata": {
    "collapsed": true
   },
   "outputs": [],
   "source": [
    "data = Data([all_data])"
   ]
  },
  {
   "cell_type": "markdown",
   "metadata": {},
   "source": [
    "##### Setup the layout of the map: "
   ]
  },
  {
   "cell_type": "code",
   "execution_count": 8,
   "metadata": {
    "collapsed": true
   },
   "outputs": [],
   "source": [
    "layout = dict(\n",
    "    height = 500,\n",
    "    width = 700,\n",
    "    margin = dict( t=0, b=0, l=0, r=0 ),\n",
    "    font = dict( color='#FFFFFF', size=11 ),\n",
    "    paper_bgcolor = '#000000',\n",
    "    #paper_bgcolor = '#50667f',\n",
    "    mapbox=dict(\n",
    "        accesstoken=mapbox_access_token,\n",
    "        bearing=0,\n",
    "        center=dict(\n",
    "            lat=46,\n",
    "            lon=-119\n",
    "        ),\n",
    "        pitch=0,\n",
    "        zoom=4.5,\n",
    "        style='light'\n",
    "    ),\n",
    ")"
   ]
  },
  {
   "cell_type": "code",
   "execution_count": 9,
   "metadata": {},
   "outputs": [],
   "source": [
    "figure = dict(data=data, layout=layout) "
   ]
  },
  {
   "cell_type": "markdown",
   "metadata": {},
   "source": [
    "### Final map: \n",
    "##### This is the format of the map to be input into the dash web app framework. "
   ]
  },
  {
   "cell_type": "code",
   "execution_count": 10,
   "metadata": {},
   "outputs": [
    {
     "data": {
      "text/html": [
       "<iframe id=\"igraph\" scrolling=\"no\" style=\"border:none;\" seamless=\"seamless\" src=\"https://plot.ly/~mkbrennan/10.embed\" height=\"500px\" width=\"700px\"></iframe>"
      ],
      "text/plain": [
       "<plotly.tools.PlotlyDisplay object>"
      ]
     },
     "execution_count": 10,
     "metadata": {},
     "output_type": "execute_result"
    }
   ],
   "source": [
    "py.iplot(figure, filename='basin')"
   ]
  },
  {
   "cell_type": "code",
   "execution_count": null,
   "metadata": {
    "collapsed": true
   },
   "outputs": [],
   "source": []
  }
 ],
 "metadata": {
  "anaconda-cloud": {},
  "kernelspec": {
   "display_name": "Python 3",
   "language": "python",
   "name": "python3"
  },
  "language_info": {
   "codemirror_mode": {
    "name": "ipython",
    "version": 3
   },
   "file_extension": ".py",
   "mimetype": "text/x-python",
   "name": "python",
   "nbconvert_exporter": "python",
   "pygments_lexer": "ipython3",
   "version": "3.6.1"
  }
 },
 "nbformat": 4,
 "nbformat_minor": 2
}
