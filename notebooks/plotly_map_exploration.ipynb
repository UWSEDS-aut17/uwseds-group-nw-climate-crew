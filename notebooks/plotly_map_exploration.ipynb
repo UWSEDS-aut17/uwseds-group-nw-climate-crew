{
 "cells": [
  {
   "cell_type": "code",
   "execution_count": 71,
   "metadata": {
    "collapsed": true
   },
   "outputs": [],
   "source": [
    "import plotly.plotly as py\n",
    "import plotly.graph_objs as go\n",
    "import pandas as pd "
   ]
  },
  {
   "cell_type": "code",
   "execution_count": 72,
   "metadata": {},
   "outputs": [
    {
     "data": {
      "text/html": [
       "<div>\n",
       "<style>\n",
       "    .dataframe thead tr:only-child th {\n",
       "        text-align: right;\n",
       "    }\n",
       "\n",
       "    .dataframe thead th {\n",
       "        text-align: left;\n",
       "    }\n",
       "\n",
       "    .dataframe tbody tr th {\n",
       "        vertical-align: top;\n",
       "    }\n",
       "</style>\n",
       "<table border=\"1\" class=\"dataframe\">\n",
       "  <thead>\n",
       "    <tr style=\"text-align: right;\">\n",
       "      <th></th>\n",
       "      <th>Site ID</th>\n",
       "      <th>Basin</th>\n",
       "      <th>Latitude</th>\n",
       "      <th>Longitude</th>\n",
       "      <th>Viability</th>\n",
       "    </tr>\n",
       "  </thead>\n",
       "  <tbody>\n",
       "    <tr>\n",
       "      <th>0</th>\n",
       "      <td>ALB</td>\n",
       "      <td>Willamette</td>\n",
       "      <td>44.633300</td>\n",
       "      <td>-123.100000</td>\n",
       "      <td>4</td>\n",
       "    </tr>\n",
       "    <tr>\n",
       "      <th>1</th>\n",
       "      <td>BRI</td>\n",
       "      <td>Kootenay</td>\n",
       "      <td>49.324444</td>\n",
       "      <td>-117.620278</td>\n",
       "      <td>4</td>\n",
       "    </tr>\n",
       "    <tr>\n",
       "      <th>2</th>\n",
       "      <td>COR</td>\n",
       "      <td>Kootenay</td>\n",
       "      <td>49.466944</td>\n",
       "      <td>-117.466944</td>\n",
       "      <td>3</td>\n",
       "    </tr>\n",
       "    <tr>\n",
       "      <th>3</th>\n",
       "      <td>DCD</td>\n",
       "      <td>Kootenay</td>\n",
       "      <td>50.266667</td>\n",
       "      <td>-116.946389</td>\n",
       "      <td>2</td>\n",
       "    </tr>\n",
       "    <tr>\n",
       "      <th>4</th>\n",
       "      <td>LIB</td>\n",
       "      <td>Kootenay</td>\n",
       "      <td>48.411700</td>\n",
       "      <td>-115.309400</td>\n",
       "      <td>2</td>\n",
       "    </tr>\n",
       "  </tbody>\n",
       "</table>\n",
       "</div>"
      ],
      "text/plain": [
       "  Site ID       Basin   Latitude   Longitude  Viability\n",
       "0     ALB  Willamette  44.633300 -123.100000          4\n",
       "1     BRI    Kootenay  49.324444 -117.620278          4\n",
       "2     COR    Kootenay  49.466944 -117.466944          3\n",
       "3     DCD    Kootenay  50.266667 -116.946389          2\n",
       "4     LIB    Kootenay  48.411700 -115.309400          2"
      ]
     },
     "execution_count": 72,
     "metadata": {},
     "output_type": "execute_result"
    }
   ],
   "source": [
    "df = pd.read_csv('/Users/katiebrennan/Documents'+\n",
    "                 '/UW/CSE583/uwseds-group-nw-climate-crew'+\n",
    "                 '/futurefish/data/tiny_site_test_dataset.csv')\n",
    "df.head()"
   ]
  },
  {
   "cell_type": "code",
   "execution_count": 113,
   "metadata": {},
   "outputs": [
    {
     "data": {
      "text/plain": [
       "25    5\n",
       "26    1\n",
       "27    4\n",
       "28    1\n",
       "29    1\n",
       "Name: Viability, dtype: int64"
      ]
     },
     "execution_count": 113,
     "metadata": {},
     "output_type": "execute_result"
    }
   ],
   "source": []
  },
  {
   "cell_type": "code",
   "execution_count": 147,
   "metadata": {},
   "outputs": [],
   "source": [
    "scl = [[0, 'rgb(0, 102, 0)'],[0.2, 'rgb(0, 102, 0)'],\\\n",
    "       [0.2, 'rgb(128, 255, 0)'], [0.4, 'rgb(128, 255, 0)'],\\\n",
    "       [0.4, 'rgb(255, 255, 51)'], [0.6, 'rgb(255, 255, 51)'],\\\n",
    "       [0.6, 'rgb(255, 153, 51)'], [0.8, 'rgb(255, 153, 51)'],\\\n",
    "       [0.8, 'rgb(255, 6, 6)'], [1.0, 'rgb(255, 6, 6)']]"
   ]
  },
  {
   "cell_type": "code",
   "execution_count": null,
   "metadata": {
    "collapsed": true
   },
   "outputs": [],
   "source": [
    "    'colorbar': {\n",
    "        'tick0': 0,\n",
    "        'dtick': 1\n",
    "    }"
   ]
  },
  {
   "cell_type": "code",
   "execution_count": 196,
   "metadata": {},
   "outputs": [],
   "source": [
    "data = [ dict(\n",
    "        type = 'scattergeo',\n",
    "        locationmode = 'USA-states',\n",
    "        lon = df['Longitude'],\n",
    "        lat = df['Latitude'],\n",
    "        basin = df['Basin'],\n",
    "        mode = 'markers',\n",
    "        marker = dict(\n",
    "            size = 8,\n",
    "            opacity = 0.8,\n",
    "            reversescale = True,\n",
    "            autocolorscale = False,\n",
    "            symbol = 'circle',\n",
    "            line = dict(\n",
    "                width=1,\n",
    "                color='rgba(102, 102, 102)'\n",
    "            ),\n",
    "            colorscale = scl,\n",
    "            cmin = 1,\n",
    "            color = df['Viability'],\n",
    "            cmax = df['Viability'].max(),\n",
    "            colorbar=dict(\n",
    "                title=\"Viability of Salmon Life\",\n",
    "                tick0= 0,\n",
    "                dtick= 1\n",
    "            ),\n",
    "            text=df['Basin']\n",
    "        ))]"
   ]
  },
  {
   "cell_type": "code",
   "execution_count": 197,
   "metadata": {},
   "outputs": [],
   "source": [
    "layout = dict(\n",
    "        title = 'Salmon Viability<br>(Hover for basin name)',\n",
    "        colorbar = True,\n",
    "        geo = dict(\n",
    "            scope='north america',\n",
    "            projection=dict( type='conic conformal' ),\n",
    "            showland = True,\n",
    "            landcolor = \"rgb(212, 212, 212)\",\n",
    "            subunitcolor = \"rgb(255, 255, 255)\",\n",
    "            countrycolor = \"rgb(255, 255, 255)\",\n",
    "            countrywidth = 0.5,\n",
    "            subunitwidth = 0.5,\n",
    "            resolution=50,\n",
    "            lonaxis = dict( range= [ -126.0, -110.0 ] ),\n",
    "            lataxis = dict( range= [ 42.0, 51.0 ] ),\n",
    "        ),\n",
    "    )"
   ]
  },
  {
   "cell_type": "code",
   "execution_count": 198,
   "metadata": {},
   "outputs": [
    {
     "data": {
      "text/html": [
       "<iframe id=\"igraph\" scrolling=\"no\" style=\"border:none;\" seamless=\"seamless\" src=\"https://plot.ly/~mkbrennan/4.embed\" height=\"525px\" width=\"100%\"></iframe>"
      ],
      "text/plain": [
       "<plotly.tools.PlotlyDisplay object>"
      ]
     },
     "execution_count": 198,
     "metadata": {},
     "output_type": "execute_result"
    }
   ],
   "source": [
    "fig = dict( data=data, layout=layout )\n",
    "py.iplot( fig, validate=False, filename='Basin' )"
   ]
  },
  {
   "cell_type": "code",
   "execution_count": null,
   "metadata": {
    "collapsed": true
   },
   "outputs": [],
   "source": []
  }
 ],
 "metadata": {
  "kernelspec": {
   "display_name": "Python [conda env:py36]",
   "language": "python",
   "name": "conda-env-py36-py"
  },
  "language_info": {
   "codemirror_mode": {
    "name": "ipython",
    "version": 3
   },
   "file_extension": ".py",
   "mimetype": "text/x-python",
   "name": "python",
   "nbconvert_exporter": "python",
   "pygments_lexer": "ipython3",
   "version": "3.6.1"
  }
 },
 "nbformat": 4,
 "nbformat_minor": 2
}
